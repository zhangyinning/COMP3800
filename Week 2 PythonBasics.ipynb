{
 "cells": [
  {
   "cell_type": "markdown",
   "id": "4b30ad90",
   "metadata": {},
   "source": [
    "# List"
   ]
  },
  {
   "cell_type": "code",
   "execution_count": 1,
   "id": "ebaf3279",
   "metadata": {},
   "outputs": [
    {
     "data": {
      "text/plain": [
       "3"
      ]
     },
     "execution_count": 1,
     "metadata": {},
     "output_type": "execute_result"
    }
   ],
   "source": [
    "# define a list\n",
    "L = [123, 'spam', 1.23]\n",
    "len(L)"
   ]
  },
  {
   "cell_type": "code",
   "execution_count": 2,
   "id": "614a546a",
   "metadata": {},
   "outputs": [
    {
     "data": {
      "text/plain": [
       "123"
      ]
     },
     "execution_count": 2,
     "metadata": {},
     "output_type": "execute_result"
    }
   ],
   "source": [
    "# Index and slice\n",
    "L[0]"
   ]
  },
  {
   "cell_type": "code",
   "execution_count": 3,
   "id": "544dbbcc",
   "metadata": {},
   "outputs": [
    {
     "data": {
      "text/plain": [
       "[123, 'spam']"
      ]
     },
     "execution_count": 3,
     "metadata": {},
     "output_type": "execute_result"
    }
   ],
   "source": [
    "L[:-1]"
   ]
  },
  {
   "cell_type": "code",
   "execution_count": 4,
   "id": "6170c70d",
   "metadata": {},
   "outputs": [
    {
     "data": {
      "text/plain": [
       "[123]"
      ]
     },
     "execution_count": 4,
     "metadata": {},
     "output_type": "execute_result"
    }
   ],
   "source": [
    "L[:-2]"
   ]
  },
  {
   "cell_type": "code",
   "execution_count": 5,
   "id": "74fbf796",
   "metadata": {},
   "outputs": [],
   "source": [
    "#add an element\n",
    "L.append('NI')"
   ]
  },
  {
   "cell_type": "code",
   "execution_count": 6,
   "id": "10b5c89d",
   "metadata": {},
   "outputs": [
    {
     "data": {
      "text/plain": [
       "[123, 'spam', 1.23, 'NI']"
      ]
     },
     "execution_count": 6,
     "metadata": {},
     "output_type": "execute_result"
    }
   ],
   "source": [
    "L"
   ]
  },
  {
   "cell_type": "code",
   "execution_count": 7,
   "id": "e8e69ddf",
   "metadata": {},
   "outputs": [
    {
     "data": {
      "text/plain": [
       "1.23"
      ]
     },
     "execution_count": 7,
     "metadata": {},
     "output_type": "execute_result"
    }
   ],
   "source": [
    "#pop out an element\n",
    "L.pop(2)"
   ]
  },
  {
   "cell_type": "code",
   "execution_count": 10,
   "id": "d7ae3500",
   "metadata": {},
   "outputs": [
    {
     "data": {
      "text/plain": [
       "['aa', 'bb', 'cc']"
      ]
     },
     "execution_count": 10,
     "metadata": {},
     "output_type": "execute_result"
    }
   ],
   "source": [
    "M = ['bb', 'aa', 'cc']\n",
    "M.sort()\n",
    "M"
   ]
  },
  {
   "cell_type": "markdown",
   "id": "8e679e5c",
   "metadata": {},
   "source": [
    "# Tuples"
   ]
  },
  {
   "cell_type": "code",
   "execution_count": 19,
   "id": "fdbcf21c",
   "metadata": {},
   "outputs": [
    {
     "data": {
      "text/plain": [
       "4"
      ]
     },
     "execution_count": 19,
     "metadata": {},
     "output_type": "execute_result"
    }
   ],
   "source": [
    "# define a tuple\n",
    "T = (1, 2, 3, 4) \n",
    "len(T)"
   ]
  },
  {
   "cell_type": "code",
   "execution_count": 20,
   "id": "fffbde45",
   "metadata": {},
   "outputs": [
    {
     "data": {
      "text/plain": [
       "(1, 2, 3, 4, 5, 6)"
      ]
     },
     "execution_count": 20,
     "metadata": {},
     "output_type": "execute_result"
    }
   ],
   "source": [
    "T+(5, 6)"
   ]
  },
  {
   "cell_type": "code",
   "execution_count": 21,
   "id": "3cfd34af",
   "metadata": {},
   "outputs": [
    {
     "data": {
      "text/plain": [
       "1"
      ]
     },
     "execution_count": 21,
     "metadata": {},
     "output_type": "execute_result"
    }
   ],
   "source": [
    "T[0]"
   ]
  },
  {
   "cell_type": "code",
   "execution_count": 22,
   "id": "37f2989a",
   "metadata": {},
   "outputs": [
    {
     "data": {
      "text/plain": [
       "3"
      ]
     },
     "execution_count": 22,
     "metadata": {},
     "output_type": "execute_result"
    }
   ],
   "source": [
    "# find the position of 4\n",
    "T.index(4)"
   ]
  },
  {
   "cell_type": "code",
   "execution_count": 23,
   "id": "feca1bdc",
   "metadata": {},
   "outputs": [
    {
     "data": {
      "text/plain": [
       "1"
      ]
     },
     "execution_count": 23,
     "metadata": {},
     "output_type": "execute_result"
    }
   ],
   "source": [
    "T.count(4)"
   ]
  },
  {
   "cell_type": "code",
   "execution_count": 24,
   "id": "1edfa48d",
   "metadata": {},
   "outputs": [
    {
     "data": {
      "text/plain": [
       "(1, 2, 3, 4)"
      ]
     },
     "execution_count": 24,
     "metadata": {},
     "output_type": "execute_result"
    }
   ],
   "source": [
    "T"
   ]
  },
  {
   "cell_type": "code",
   "execution_count": 25,
   "id": "52e71f9f",
   "metadata": {},
   "outputs": [
    {
     "data": {
      "text/plain": [
       "(2, 2, 3, 4)"
      ]
     },
     "execution_count": 25,
     "metadata": {},
     "output_type": "execute_result"
    }
   ],
   "source": [
    "T = (2,) + T[1:]\n",
    "T"
   ]
  },
  {
   "cell_type": "markdown",
   "id": "29642420",
   "metadata": {},
   "source": [
    "# Dictionary"
   ]
  },
  {
   "cell_type": "code",
   "execution_count": 26,
   "id": "d9461623",
   "metadata": {},
   "outputs": [
    {
     "name": "stdout",
     "output_type": "stream",
     "text": [
      "3\n"
     ]
    }
   ],
   "source": [
    "country_code={'India':1, 'USA':2, 'China': 3}\n",
    "print(country_code['China'])"
   ]
  },
  {
   "cell_type": "markdown",
   "id": "11b5ffb8",
   "metadata": {},
   "source": [
    "# Sets"
   ]
  },
  {
   "cell_type": "code",
   "execution_count": 27,
   "id": "edb633fe",
   "metadata": {},
   "outputs": [
    {
     "data": {
      "text/plain": [
       "{'apple', 'banana', 'cherry'}"
      ]
     },
     "execution_count": 27,
     "metadata": {},
     "output_type": "execute_result"
    }
   ],
   "source": [
    "S = {\"apple\", \"banana\", \"cherry\", \"apple\"}\n",
    "S"
   ]
  },
  {
   "cell_type": "code",
   "execution_count": 28,
   "id": "a404a5d4",
   "metadata": {},
   "outputs": [
    {
     "ename": "TypeError",
     "evalue": "'set' object is not subscriptable",
     "output_type": "error",
     "traceback": [
      "\u001b[0;31m---------------------------------------------------------------------------\u001b[0m",
      "\u001b[0;31mTypeError\u001b[0m                                 Traceback (most recent call last)",
      "Input \u001b[0;32mIn [28]\u001b[0m, in \u001b[0;36m<cell line: 1>\u001b[0;34m()\u001b[0m\n\u001b[0;32m----> 1\u001b[0m \u001b[43mS\u001b[49m\u001b[43m[\u001b[49m\u001b[38;5;241;43m1\u001b[39;49m\u001b[43m]\u001b[49m\n",
      "\u001b[0;31mTypeError\u001b[0m: 'set' object is not subscriptable"
     ]
    }
   ],
   "source": [
    "S[1]"
   ]
  },
  {
   "cell_type": "markdown",
   "id": "8d6f24df",
   "metadata": {},
   "source": [
    "# IF-ELSE"
   ]
  },
  {
   "cell_type": "code",
   "execution_count": null,
   "id": "59595813",
   "metadata": {},
   "outputs": [],
   "source": [
    "score = int(input(\"Enter your score: \"))\n",
    "if score > 90:\n",
    "    print(\"Your score is A.\")\n",
    "elif score>80:\n",
    "    print(\"Your score is B.\")\n",
    "elif score>70:\n",
    "    print(\"Your score is C.\")\n",
    "elif score>60:\n",
    "    print(\"Your score is D.\")\n",
    "else: \n",
    "    print(\"Your score is F.\")"
   ]
  },
  {
   "cell_type": "markdown",
   "id": "af870a66",
   "metadata": {},
   "source": [
    "How can we improve the code?"
   ]
  },
  {
   "cell_type": "markdown",
   "id": "8f20fc27",
   "metadata": {},
   "source": [
    "# For loops"
   ]
  },
  {
   "cell_type": "code",
   "execution_count": 32,
   "id": "4bcc5372",
   "metadata": {},
   "outputs": [
    {
     "name": "stdout",
     "output_type": "stream",
     "text": [
      "Enter n :3\n",
      "3 x 1 = 3\n",
      "3 x 2 = 6\n",
      "3 x 3 = 9\n",
      "3 x 4 = 12\n",
      "3 x 5 = 15\n",
      "3 x 6 = 18\n",
      "3 x 7 = 21\n",
      "3 x 8 = 24\n",
      "3 x 9 = 27\n",
      "3 x 10 = 30\n"
     ]
    }
   ],
   "source": [
    "n=int(input(\"Enter n :\"))\n",
    "for i in range(1,11):\n",
    "    print(n,\"x\",i,\"=\",i*n)"
   ]
  },
  {
   "cell_type": "code",
   "execution_count": 36,
   "id": "6cf5c45d",
   "metadata": {},
   "outputs": [
    {
     "name": "stdout",
     "output_type": "stream",
     "text": [
      "Enter the first item price: 3.45\n",
      "Enter the next item price (or 0 to quit): 4\n",
      "Enter the next item price (or 0 to quit): 5\n",
      "Enter the next item price (or 0 to quit): 0\n",
      "The total balance is 12.45\n"
     ]
    }
   ],
   "source": [
    "total = 0\n",
    "value = float( input(\"Enter the first item price: \") )\n",
    "while value > 0 :\n",
    "    total += value\n",
    "    value = float( input(\"Enter the next item price (or 0 to quit): \") )\n",
    "print( \"The total balance is %4.2f\" % total)"
   ]
  },
  {
   "cell_type": "markdown",
   "id": "e8496f48",
   "metadata": {},
   "source": [
    "# Functions"
   ]
  },
  {
   "cell_type": "code",
   "execution_count": 39,
   "id": "00885959",
   "metadata": {},
   "outputs": [],
   "source": [
    "def greatest(x,y,z):\n",
    "    g=0\n",
    "    if (x>y)and(x>z):\n",
    "        g=x\n",
    "    elif (y>x)and (y>z):\n",
    "        g=y\n",
    "    else:\n",
    "        g=z\n",
    "    print(g, \"is the greatest\")"
   ]
  },
  {
   "cell_type": "code",
   "execution_count": 40,
   "id": "e1bcbe72",
   "metadata": {},
   "outputs": [
    {
     "name": "stdout",
     "output_type": "stream",
     "text": [
      "12 is the greatest\n"
     ]
    }
   ],
   "source": [
    "greatest(3,12,9)"
   ]
  },
  {
   "cell_type": "code",
   "execution_count": 41,
   "id": "6aef1b52",
   "metadata": {},
   "outputs": [],
   "source": [
    "# recursive function\n",
    "def factorial(n) -> object:\n",
    "    return 1 if (n==1 or n==0) else n * factorial(n-1)"
   ]
  },
  {
   "cell_type": "code",
   "execution_count": 42,
   "id": "8fdd32ee",
   "metadata": {},
   "outputs": [
    {
     "name": "stdout",
     "output_type": "stream",
     "text": [
      "enter a number13\n",
      "6227020800\n"
     ]
    }
   ],
   "source": [
    "n= int(input(\"enter a number\"))\n",
    "print(factorial(n))"
   ]
  },
  {
   "cell_type": "markdown",
   "id": "f4a9586e",
   "metadata": {},
   "source": [
    "# Classes"
   ]
  },
  {
   "cell_type": "code",
   "execution_count": 43,
   "id": "97cba594",
   "metadata": {},
   "outputs": [],
   "source": [
    "class Rectangle:\n",
    "    \n",
    "    def __init__(self, height, width):\n",
    "        self.height = height\n",
    "        self.width = width\n",
    "    \n",
    "    def area(self):\n",
    "        area = self.height * self.width\n",
    "        return area"
   ]
  },
  {
   "cell_type": "code",
   "execution_count": 44,
   "id": "5a747c4d",
   "metadata": {},
   "outputs": [
    {
     "name": "stdout",
     "output_type": "stream",
     "text": [
      "<class '__main__.Rectangle'>\n"
     ]
    }
   ],
   "source": [
    "rect1 = Rectangle(12, 10)\n",
    "print(type(rect1))"
   ]
  },
  {
   "cell_type": "code",
   "execution_count": 46,
   "id": "dc83cc02",
   "metadata": {},
   "outputs": [
    {
     "data": {
      "text/plain": [
       "12"
      ]
     },
     "execution_count": 46,
     "metadata": {},
     "output_type": "execute_result"
    }
   ],
   "source": [
    "rect1.height"
   ]
  },
  {
   "cell_type": "code",
   "execution_count": 47,
   "id": "315f89c2",
   "metadata": {},
   "outputs": [
    {
     "data": {
      "text/plain": [
       "10"
      ]
     },
     "execution_count": 47,
     "metadata": {},
     "output_type": "execute_result"
    }
   ],
   "source": [
    "rect1.width"
   ]
  },
  {
   "cell_type": "code",
   "execution_count": 49,
   "id": "04c1ed21",
   "metadata": {},
   "outputs": [
    {
     "data": {
      "text/plain": [
       "120"
      ]
     },
     "execution_count": 49,
     "metadata": {},
     "output_type": "execute_result"
    }
   ],
   "source": [
    "rect1.area()"
   ]
  },
  {
   "cell_type": "markdown",
   "id": "1f8cf681",
   "metadata": {},
   "source": [
    "Notice the difference when we use height - an attribute and area()- a method."
   ]
  },
  {
   "cell_type": "code",
   "execution_count": null,
   "id": "12830bb4",
   "metadata": {},
   "outputs": [],
   "source": []
  }
 ],
 "metadata": {
  "kernelspec": {
   "display_name": "Python 3 (ipykernel)",
   "language": "python",
   "name": "python3"
  },
  "language_info": {
   "codemirror_mode": {
    "name": "ipython",
    "version": 3
   },
   "file_extension": ".py",
   "mimetype": "text/x-python",
   "name": "python",
   "nbconvert_exporter": "python",
   "pygments_lexer": "ipython3",
   "version": "3.9.12"
  }
 },
 "nbformat": 4,
 "nbformat_minor": 5
}
