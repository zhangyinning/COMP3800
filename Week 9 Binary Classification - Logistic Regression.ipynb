{
 "cells": [
  {
   "cell_type": "markdown",
   "id": "f7286c36",
   "metadata": {},
   "source": [
    "# Binary Classification with Logistic Regression"
   ]
  },
  {
   "cell_type": "code",
   "execution_count": 41,
   "id": "91a88f0f",
   "metadata": {},
   "outputs": [],
   "source": [
    "# import libraries\n",
    "import pandas as pd\n",
    "import numpy as np\n",
    "\n",
    "from sklearn.model_selection import train_test_split\n",
    "from sklearn.linear_model import LogisticRegression\n",
    "from sklearn.metrics import log_loss, roc_auc_score, recall_score, precision_score, average_precision_score, f1_score, classification_report, accuracy_score, plot_roc_curve, plot_precision_recall_curve, plot_confusion_matrix"
   ]
  },
  {
   "cell_type": "markdown",
   "id": "e13ae684",
   "metadata": {},
   "source": [
    "# Load the data and clean it"
   ]
  },
  {
   "cell_type": "code",
   "execution_count": 42,
   "id": "72ba2bc1",
   "metadata": {},
   "outputs": [],
   "source": [
    "# The dataset is a Heart Attack directory from Kaggle. The goal of the project is to predict whether the patient has heart disease or not. Link to the data: https://www.kaggle.com/datasets/imnikhilanand/heart-attack-prediction?select=data.csv\n",
    "df = pd.read_csv('data.csv', na_values='?')"
   ]
  },
  {
   "cell_type": "code",
   "execution_count": 43,
   "id": "be76e51b",
   "metadata": {},
   "outputs": [
    {
     "data": {
      "text/plain": [
       "Index(['age', 'sex', 'cp', 'trestbps', 'chol', 'fbs', 'restecg', 'thalach',\n",
       "       'exang', 'oldpeak', 'slope', 'ca', 'thal', 'num       '],\n",
       "      dtype='object')"
      ]
     },
     "execution_count": 43,
     "metadata": {},
     "output_type": "execute_result"
    }
   ],
   "source": [
    "df.columns"
   ]
  },
  {
   "cell_type": "code",
   "execution_count": 44,
   "id": "d1fb5b18",
   "metadata": {},
   "outputs": [
    {
     "data": {
      "text/plain": [
       "0    188\n",
       "1    106\n",
       "Name: target, dtype: int64"
      ]
     },
     "execution_count": 44,
     "metadata": {},
     "output_type": "execute_result"
    }
   ],
   "source": [
    "# rename the target variable\n",
    "df = df.rename(columns={'num       ': 'target'})\n",
    "df['target'].value_counts(dropna=False)"
   ]
  },
  {
   "cell_type": "code",
   "execution_count": 45,
   "id": "5c110c53",
   "metadata": {},
   "outputs": [
    {
     "name": "stdout",
     "output_type": "stream",
     "text": [
      "<class 'pandas.core.frame.DataFrame'>\n",
      "RangeIndex: 294 entries, 0 to 293\n",
      "Data columns (total 14 columns):\n",
      " #   Column    Non-Null Count  Dtype  \n",
      "---  ------    --------------  -----  \n",
      " 0   age       294 non-null    int64  \n",
      " 1   sex       294 non-null    int64  \n",
      " 2   cp        294 non-null    int64  \n",
      " 3   trestbps  293 non-null    float64\n",
      " 4   chol      271 non-null    float64\n",
      " 5   fbs       286 non-null    float64\n",
      " 6   restecg   293 non-null    float64\n",
      " 7   thalach   293 non-null    float64\n",
      " 8   exang     293 non-null    float64\n",
      " 9   oldpeak   294 non-null    float64\n",
      " 10  slope     104 non-null    float64\n",
      " 11  ca        3 non-null      float64\n",
      " 12  thal      28 non-null     float64\n",
      " 13  target    294 non-null    int64  \n",
      "dtypes: float64(10), int64(4)\n",
      "memory usage: 32.3 KB\n"
     ]
    }
   ],
   "source": [
    "df.info()"
   ]
  },
  {
   "cell_type": "code",
   "execution_count": 46,
   "id": "f6f7e9aa",
   "metadata": {},
   "outputs": [
    {
     "name": "stdout",
     "output_type": "stream",
     "text": [
      "<class 'pandas.core.frame.DataFrame'>\n",
      "Int64Index: 261 entries, 0 to 293\n",
      "Data columns (total 11 columns):\n",
      " #   Column    Non-Null Count  Dtype  \n",
      "---  ------    --------------  -----  \n",
      " 0   age       261 non-null    int64  \n",
      " 1   sex       261 non-null    int64  \n",
      " 2   cp        261 non-null    int64  \n",
      " 3   trestbps  261 non-null    float64\n",
      " 4   chol      261 non-null    float64\n",
      " 5   fbs       261 non-null    float64\n",
      " 6   restecg   261 non-null    float64\n",
      " 7   thalach   261 non-null    float64\n",
      " 8   exang     261 non-null    float64\n",
      " 9   oldpeak   261 non-null    float64\n",
      " 10  target    261 non-null    int64  \n",
      "dtypes: float64(7), int64(4)\n",
      "memory usage: 24.5 KB\n"
     ]
    }
   ],
   "source": [
    "# clean the data. Remove the columns with many missing values and the rows with missing values.\n",
    "df = df.drop(['slope', 'ca', 'thal'], axis=1)\n",
    "df = df.dropna().copy()\n",
    "df.info() #recheck"
   ]
  },
  {
   "cell_type": "code",
   "execution_count": 47,
   "id": "3e1ee13b",
   "metadata": {},
   "outputs": [
    {
     "data": {
      "text/html": [
       "<div>\n",
       "<style scoped>\n",
       "    .dataframe tbody tr th:only-of-type {\n",
       "        vertical-align: middle;\n",
       "    }\n",
       "\n",
       "    .dataframe tbody tr th {\n",
       "        vertical-align: top;\n",
       "    }\n",
       "\n",
       "    .dataframe thead th {\n",
       "        text-align: right;\n",
       "    }\n",
       "</style>\n",
       "<table border=\"1\" class=\"dataframe\">\n",
       "  <thead>\n",
       "    <tr style=\"text-align: right;\">\n",
       "      <th></th>\n",
       "      <th>age</th>\n",
       "      <th>sex</th>\n",
       "      <th>cp</th>\n",
       "      <th>trestbps</th>\n",
       "      <th>chol</th>\n",
       "      <th>fbs</th>\n",
       "      <th>restecg</th>\n",
       "      <th>thalach</th>\n",
       "      <th>exang</th>\n",
       "      <th>oldpeak</th>\n",
       "      <th>target</th>\n",
       "    </tr>\n",
       "  </thead>\n",
       "  <tbody>\n",
       "    <tr>\n",
       "      <th>0</th>\n",
       "      <td>28</td>\n",
       "      <td>1</td>\n",
       "      <td>2</td>\n",
       "      <td>130.0</td>\n",
       "      <td>132.0</td>\n",
       "      <td>0.0</td>\n",
       "      <td>2.0</td>\n",
       "      <td>185.0</td>\n",
       "      <td>0.0</td>\n",
       "      <td>0.0</td>\n",
       "      <td>0</td>\n",
       "    </tr>\n",
       "    <tr>\n",
       "      <th>1</th>\n",
       "      <td>29</td>\n",
       "      <td>1</td>\n",
       "      <td>2</td>\n",
       "      <td>120.0</td>\n",
       "      <td>243.0</td>\n",
       "      <td>0.0</td>\n",
       "      <td>0.0</td>\n",
       "      <td>160.0</td>\n",
       "      <td>0.0</td>\n",
       "      <td>0.0</td>\n",
       "      <td>0</td>\n",
       "    </tr>\n",
       "    <tr>\n",
       "      <th>3</th>\n",
       "      <td>30</td>\n",
       "      <td>0</td>\n",
       "      <td>1</td>\n",
       "      <td>170.0</td>\n",
       "      <td>237.0</td>\n",
       "      <td>0.0</td>\n",
       "      <td>1.0</td>\n",
       "      <td>170.0</td>\n",
       "      <td>0.0</td>\n",
       "      <td>0.0</td>\n",
       "      <td>0</td>\n",
       "    </tr>\n",
       "    <tr>\n",
       "      <th>4</th>\n",
       "      <td>31</td>\n",
       "      <td>0</td>\n",
       "      <td>2</td>\n",
       "      <td>100.0</td>\n",
       "      <td>219.0</td>\n",
       "      <td>0.0</td>\n",
       "      <td>1.0</td>\n",
       "      <td>150.0</td>\n",
       "      <td>0.0</td>\n",
       "      <td>0.0</td>\n",
       "      <td>0</td>\n",
       "    </tr>\n",
       "    <tr>\n",
       "      <th>5</th>\n",
       "      <td>32</td>\n",
       "      <td>0</td>\n",
       "      <td>2</td>\n",
       "      <td>105.0</td>\n",
       "      <td>198.0</td>\n",
       "      <td>0.0</td>\n",
       "      <td>0.0</td>\n",
       "      <td>165.0</td>\n",
       "      <td>0.0</td>\n",
       "      <td>0.0</td>\n",
       "      <td>0</td>\n",
       "    </tr>\n",
       "  </tbody>\n",
       "</table>\n",
       "</div>"
      ],
      "text/plain": [
       "   age  sex  cp  trestbps   chol  fbs  restecg  thalach  exang  oldpeak  \\\n",
       "0   28    1   2     130.0  132.0  0.0      2.0    185.0    0.0      0.0   \n",
       "1   29    1   2     120.0  243.0  0.0      0.0    160.0    0.0      0.0   \n",
       "3   30    0   1     170.0  237.0  0.0      1.0    170.0    0.0      0.0   \n",
       "4   31    0   2     100.0  219.0  0.0      1.0    150.0    0.0      0.0   \n",
       "5   32    0   2     105.0  198.0  0.0      0.0    165.0    0.0      0.0   \n",
       "\n",
       "   target  \n",
       "0       0  \n",
       "1       0  \n",
       "3       0  \n",
       "4       0  \n",
       "5       0  "
      ]
     },
     "execution_count": 47,
     "metadata": {},
     "output_type": "execute_result"
    }
   ],
   "source": [
    "df.head()"
   ]
  },
  {
   "cell_type": "markdown",
   "id": "9e5aea43",
   "metadata": {},
   "source": [
    "# Exploratory Data Analysis and Feature Selection"
   ]
  },
  {
   "cell_type": "code",
   "execution_count": 48,
   "id": "9d0c01d0",
   "metadata": {},
   "outputs": [
    {
     "data": {
      "image/png": "[encoded data removed]",
      "text/plain": [
       "<Figure size 1296x720 with 11 Axes>"
      ]
     },
     "metadata": {
      "needs_background": "light"
     },
     "output_type": "display_data"
    }
   ],
   "source": [
    "# histogram for all features\n",
    "import matplotlib.pyplot as plt\n",
    "fig = plt.figure(figsize=(18, 10))\n",
    "i=0\n",
    "for column in df:\n",
    "    sub=fig.add_subplot(3,5,i+1)\n",
    "    sub.set_xlabel(column)\n",
    "    df[column].plot(kind='hist')\n",
    "    i=i+1\n"
   ]
  },
  {
   "cell_type": "code",
   "execution_count": 49,
   "id": "66a3103b",
   "metadata": {
    "scrolled": true
   },
   "outputs": [
    {
     "data": {
      "image/png": "[encoded data removed]",
      "text/plain": [
       "<Figure size 720x576 with 5 Axes>"
      ]
     },
     "metadata": {
      "needs_background": "light"
     },
     "output_type": "display_data"
    }
   ],
   "source": [
    "# Numerical Features vs. Target - Box Plot\n",
    "import seaborn as sns\n",
    "num_list=['age', 'trestbps', 'chol', 'thalach', 'oldpeak']\n",
    "fig=plt.figure(figsize=(10, 8))\n",
    "\n",
    "for i in range(len(num_list)):\n",
    "    column=num_list[i]\n",
    "    sub=fig.add_subplot(2,3,i+1)\n",
    "    sns.boxplot(x='target',y=column, data=df)"
   ]
  },
  {
   "cell_type": "markdown",
   "id": "eb9e1df7",
   "metadata": {},
   "source": [
    "ANOVA f-test for selecting numerical features"
   ]
  },
  {
   "cell_type": "code",
   "execution_count": 50,
   "id": "f53941ad",
   "metadata": {
    "scrolled": true
   },
   "outputs": [
    {
     "name": "stdout",
     "output_type": "stream",
     "text": [
      "   age  trestbps   chol  thalach  oldpeak\n",
      "0   28     130.0  132.0    185.0      0.0\n",
      "1   29     120.0  243.0    160.0      0.0\n",
      "3   30     170.0  237.0    170.0      0.0\n",
      "4   31     100.0  219.0    150.0      0.0\n",
      "5   32     105.0  198.0    165.0      0.0\n",
      "0    0\n",
      "1    0\n",
      "3    0\n",
      "4    0\n",
      "5    0\n",
      "Name: target, dtype: int64\n"
     ]
    }
   ],
   "source": [
    "x = df.loc[:, ['age', 'trestbps', 'chol', 'thalach', 'oldpeak']]\n",
    "y = df.loc[:, 'target']\n",
    "print(x.head(5))\n",
    "print(y.head(5))"
   ]
  },
  {
   "cell_type": "code",
   "execution_count": 51,
   "id": "81865223",
   "metadata": {
    "scrolled": true
   },
   "outputs": [
    {
     "name": "stdout",
     "output_type": "stream",
     "text": [
      "<class 'pandas.core.frame.DataFrame'>\n",
      "Int64Index: 261 entries, 0 to 293\n",
      "Data columns (total 5 columns):\n",
      " #   Column    Non-Null Count  Dtype  \n",
      "---  ------    --------------  -----  \n",
      " 0   age       261 non-null    int64  \n",
      " 1   trestbps  261 non-null    float64\n",
      " 2   chol      261 non-null    float64\n",
      " 3   thalach   261 non-null    float64\n",
      " 4   oldpeak   261 non-null    float64\n",
      "dtypes: float64(4), int64(1)\n",
      "memory usage: 12.2 KB\n"
     ]
    }
   ],
   "source": [
    "x.info()"
   ]
  },
  {
   "cell_type": "code",
   "execution_count": 52,
   "id": "9ee5ab59",
   "metadata": {},
   "outputs": [],
   "source": [
    "from sklearn.feature_selection import SelectKBest, f_classif, chi2"
   ]
  },
  {
   "cell_type": "code",
   "execution_count": 53,
   "id": "020c698d",
   "metadata": {
    "scrolled": false
   },
   "outputs": [
    {
     "name": "stdout",
     "output_type": "stream",
     "text": [
      "[  6.82632116   5.8238516   12.91406861  35.0095821  121.87191614]\n",
      "[0.00950736 0.01650507 0.00039027 0.00000001 0.        ]\n"
     ]
    }
   ],
   "source": [
    "np.set_printoptions(suppress = True)\n",
    "fs = SelectKBest(score_func=f_classif, k='all')\n",
    "bestFeatures = fs.fit(x, y)\n",
    "print(bestFeatures.scores_)\n",
    "print(bestFeatures.pvalues_)"
   ]
  },
  {
   "cell_type": "markdown",
   "id": "78f2bfbc",
   "metadata": {},
   "source": [
    "f-score the larger is better. Features 2, 3, 4 are more relevant to the target variable.\n",
    "However, all the p-values are less than 0.05, which means that for each of these 5 variables, there is a statistically significant difference between the two groups. "
   ]
  },
  {
   "cell_type": "code",
   "execution_count": 54,
   "id": "f2c14b4a",
   "metadata": {
    "scrolled": false
   },
   "outputs": [
    {
     "data": {
      "image/png": "[encoded data removed]",
      "text/plain": [
       "<Figure size 1152x576 with 5 Axes>"
      ]
     },
     "metadata": {
      "needs_background": "light"
     },
     "output_type": "display_data"
    }
   ],
   "source": [
    "# Categorical Features vs. Target -  Grouped Bar Chart\n",
    "cat_list=['sex','cp', 'fbs', 'restecg','exang']\n",
    "fig=plt.figure(figsize=(16,8))\n",
    "for i in range(len(cat_list)):\n",
    "    column=cat_list[i]\n",
    "    sub=fig.add_subplot(2,3,i+1)\n",
    "    chart=sns.countplot(x=column, hue='target', data=df)"
   ]
  },
  {
   "cell_type": "markdown",
   "id": "913ac25f",
   "metadata": {},
   "source": [
    "Feature selection for categorical variables using Chi-square"
   ]
  },
  {
   "cell_type": "code",
   "execution_count": 56,
   "id": "7e277969",
   "metadata": {},
   "outputs": [
    {
     "name": "stdout",
     "output_type": "stream",
     "text": [
      "[  4.29633702  20.65657842 214.00321364   7.72294782   0.09613185\n",
      "  55.39491131]\n",
      "[0.03819455 0.00000549 0.         0.00545233 0.75652189 0.        ]\n"
     ]
    }
   ],
   "source": [
    "x = df.loc[:, ['sex', 'cp', 'chol', 'fbs', 'restecg','exang']]\n",
    "y = df.loc[:, 'target']\n",
    "\n",
    "chi = SelectKBest(score_func=chi2, k='all')\n",
    "catFeatures = chi.fit(x, y)\n",
    "print(catFeatures.scores_)\n",
    "print(catFeatures.pvalues_)"
   ]
  },
  {
   "cell_type": "markdown",
   "id": "b099cf41",
   "metadata": {},
   "source": [
    "The p-value for the feature 'restecg' is larger than 0.05, which means there is no difference of 'restect' between people get heart attack and those has no heart attack "
   ]
  },
  {
   "cell_type": "code",
   "execution_count": 58,
   "id": "3a803ae5",
   "metadata": {},
   "outputs": [
    {
     "data": {
      "text/html": [
       "<div>\n",
       "<style scoped>\n",
       "    .dataframe tbody tr th:only-of-type {\n",
       "        vertical-align: middle;\n",
       "    }\n",
       "\n",
       "    .dataframe tbody tr th {\n",
       "        vertical-align: top;\n",
       "    }\n",
       "\n",
       "    .dataframe thead th {\n",
       "        text-align: right;\n",
       "    }\n",
       "</style>\n",
       "<table border=\"1\" class=\"dataframe\">\n",
       "  <thead>\n",
       "    <tr style=\"text-align: right;\">\n",
       "      <th></th>\n",
       "      <th>age</th>\n",
       "      <th>sex</th>\n",
       "      <th>cp</th>\n",
       "      <th>trestbps</th>\n",
       "      <th>chol</th>\n",
       "      <th>fbs</th>\n",
       "      <th>thalach</th>\n",
       "      <th>exang</th>\n",
       "      <th>oldpeak</th>\n",
       "      <th>target</th>\n",
       "    </tr>\n",
       "  </thead>\n",
       "  <tbody>\n",
       "    <tr>\n",
       "      <th>0</th>\n",
       "      <td>28</td>\n",
       "      <td>1</td>\n",
       "      <td>2</td>\n",
       "      <td>130.0</td>\n",
       "      <td>132.0</td>\n",
       "      <td>0.0</td>\n",
       "      <td>185.0</td>\n",
       "      <td>0.0</td>\n",
       "      <td>0.0</td>\n",
       "      <td>0</td>\n",
       "    </tr>\n",
       "    <tr>\n",
       "      <th>1</th>\n",
       "      <td>29</td>\n",
       "      <td>1</td>\n",
       "      <td>2</td>\n",
       "      <td>120.0</td>\n",
       "      <td>243.0</td>\n",
       "      <td>0.0</td>\n",
       "      <td>160.0</td>\n",
       "      <td>0.0</td>\n",
       "      <td>0.0</td>\n",
       "      <td>0</td>\n",
       "    </tr>\n",
       "    <tr>\n",
       "      <th>3</th>\n",
       "      <td>30</td>\n",
       "      <td>0</td>\n",
       "      <td>1</td>\n",
       "      <td>170.0</td>\n",
       "      <td>237.0</td>\n",
       "      <td>0.0</td>\n",
       "      <td>170.0</td>\n",
       "      <td>0.0</td>\n",
       "      <td>0.0</td>\n",
       "      <td>0</td>\n",
       "    </tr>\n",
       "    <tr>\n",
       "      <th>4</th>\n",
       "      <td>31</td>\n",
       "      <td>0</td>\n",
       "      <td>2</td>\n",
       "      <td>100.0</td>\n",
       "      <td>219.0</td>\n",
       "      <td>0.0</td>\n",
       "      <td>150.0</td>\n",
       "      <td>0.0</td>\n",
       "      <td>0.0</td>\n",
       "      <td>0</td>\n",
       "    </tr>\n",
       "    <tr>\n",
       "      <th>5</th>\n",
       "      <td>32</td>\n",
       "      <td>0</td>\n",
       "      <td>2</td>\n",
       "      <td>105.0</td>\n",
       "      <td>198.0</td>\n",
       "      <td>0.0</td>\n",
       "      <td>165.0</td>\n",
       "      <td>0.0</td>\n",
       "      <td>0.0</td>\n",
       "      <td>0</td>\n",
       "    </tr>\n",
       "  </tbody>\n",
       "</table>\n",
       "</div>"
      ],
      "text/plain": [
       "   age  sex  cp  trestbps   chol  fbs  thalach  exang  oldpeak  target\n",
       "0   28    1   2     130.0  132.0  0.0    185.0    0.0      0.0       0\n",
       "1   29    1   2     120.0  243.0  0.0    160.0    0.0      0.0       0\n",
       "3   30    0   1     170.0  237.0  0.0    170.0    0.0      0.0       0\n",
       "4   31    0   2     100.0  219.0  0.0    150.0    0.0      0.0       0\n",
       "5   32    0   2     105.0  198.0  0.0    165.0    0.0      0.0       0"
      ]
     },
     "execution_count": 58,
     "metadata": {},
     "output_type": "execute_result"
    }
   ],
   "source": [
    "df_droppedrestecg = df.drop('restecg', axis = 1)\n",
    "df_droppedrestecg.head(5)"
   ]
  },
  {
   "cell_type": "markdown",
   "id": "65ddfc25",
   "metadata": {},
   "source": [
    "# Transform the Categorical Variables to Dummy Variables"
   ]
  },
  {
   "cell_type": "code",
   "execution_count": 61,
   "id": "22f8a29a",
   "metadata": {
    "scrolled": true
   },
   "outputs": [
    {
     "data": {
      "text/html": [
       "<div>\n",
       "<style scoped>\n",
       "    .dataframe tbody tr th:only-of-type {\n",
       "        vertical-align: middle;\n",
       "    }\n",
       "\n",
       "    .dataframe tbody tr th {\n",
       "        vertical-align: top;\n",
       "    }\n",
       "\n",
       "    .dataframe thead th {\n",
       "        text-align: right;\n",
       "    }\n",
       "</style>\n",
       "<table border=\"1\" class=\"dataframe\">\n",
       "  <thead>\n",
       "    <tr style=\"text-align: right;\">\n",
       "      <th></th>\n",
       "      <th>age</th>\n",
       "      <th>trestbps</th>\n",
       "      <th>chol</th>\n",
       "      <th>thalach</th>\n",
       "      <th>oldpeak</th>\n",
       "      <th>target</th>\n",
       "      <th>sex_1</th>\n",
       "      <th>cp_2</th>\n",
       "      <th>cp_3</th>\n",
       "      <th>cp_4</th>\n",
       "      <th>fbs_1.0</th>\n",
       "      <th>exang_1.0</th>\n",
       "    </tr>\n",
       "  </thead>\n",
       "  <tbody>\n",
       "    <tr>\n",
       "      <th>0</th>\n",
       "      <td>28</td>\n",
       "      <td>130.0</td>\n",
       "      <td>132.0</td>\n",
       "      <td>185.0</td>\n",
       "      <td>0.0</td>\n",
       "      <td>0</td>\n",
       "      <td>1</td>\n",
       "      <td>1</td>\n",
       "      <td>0</td>\n",
       "      <td>0</td>\n",
       "      <td>0</td>\n",
       "      <td>0</td>\n",
       "    </tr>\n",
       "    <tr>\n",
       "      <th>1</th>\n",
       "      <td>29</td>\n",
       "      <td>120.0</td>\n",
       "      <td>243.0</td>\n",
       "      <td>160.0</td>\n",
       "      <td>0.0</td>\n",
       "      <td>0</td>\n",
       "      <td>1</td>\n",
       "      <td>1</td>\n",
       "      <td>0</td>\n",
       "      <td>0</td>\n",
       "      <td>0</td>\n",
       "      <td>0</td>\n",
       "    </tr>\n",
       "    <tr>\n",
       "      <th>3</th>\n",
       "      <td>30</td>\n",
       "      <td>170.0</td>\n",
       "      <td>237.0</td>\n",
       "      <td>170.0</td>\n",
       "      <td>0.0</td>\n",
       "      <td>0</td>\n",
       "      <td>0</td>\n",
       "      <td>0</td>\n",
       "      <td>0</td>\n",
       "      <td>0</td>\n",
       "      <td>0</td>\n",
       "      <td>0</td>\n",
       "    </tr>\n",
       "    <tr>\n",
       "      <th>4</th>\n",
       "      <td>31</td>\n",
       "      <td>100.0</td>\n",
       "      <td>219.0</td>\n",
       "      <td>150.0</td>\n",
       "      <td>0.0</td>\n",
       "      <td>0</td>\n",
       "      <td>0</td>\n",
       "      <td>1</td>\n",
       "      <td>0</td>\n",
       "      <td>0</td>\n",
       "      <td>0</td>\n",
       "      <td>0</td>\n",
       "    </tr>\n",
       "    <tr>\n",
       "      <th>5</th>\n",
       "      <td>32</td>\n",
       "      <td>105.0</td>\n",
       "      <td>198.0</td>\n",
       "      <td>165.0</td>\n",
       "      <td>0.0</td>\n",
       "      <td>0</td>\n",
       "      <td>0</td>\n",
       "      <td>1</td>\n",
       "      <td>0</td>\n",
       "      <td>0</td>\n",
       "      <td>0</td>\n",
       "      <td>0</td>\n",
       "    </tr>\n",
       "  </tbody>\n",
       "</table>\n",
       "</div>"
      ],
      "text/plain": [
       "   age  trestbps   chol  thalach  oldpeak  target  sex_1  cp_2  cp_3  cp_4  \\\n",
       "0   28     130.0  132.0    185.0      0.0       0      1     1     0     0   \n",
       "1   29     120.0  243.0    160.0      0.0       0      1     1     0     0   \n",
       "3   30     170.0  237.0    170.0      0.0       0      0     0     0     0   \n",
       "4   31     100.0  219.0    150.0      0.0       0      0     1     0     0   \n",
       "5   32     105.0  198.0    165.0      0.0       0      0     1     0     0   \n",
       "\n",
       "   fbs_1.0  exang_1.0  \n",
       "0        0          0  \n",
       "1        0          0  \n",
       "3        0          0  \n",
       "4        0          0  \n",
       "5        0          0  "
      ]
     },
     "execution_count": 61,
     "metadata": {},
     "output_type": "execute_result"
    }
   ],
   "source": [
    "df_withdummies = pd.get_dummies(df_droppedrestecg, columns=['sex','cp', 'fbs','exang'], drop_first=True)\n",
    "df_withdummies.head()"
   ]
  },
  {
   "cell_type": "markdown",
   "id": "61ca8aac",
   "metadata": {},
   "source": [
    "# Split into Training and Test Datasets and balance the training dataset"
   ]
  },
  {
   "cell_type": "code",
   "execution_count": 62,
   "id": "5105e918",
   "metadata": {},
   "outputs": [],
   "source": [
    "# Split the data. \n",
    "# Please note the parameter 'stratify'. If the ratio of heart attack vs. no heart attack \n",
    "# is 1:3, we want both training set and testing set keep this ratio, instead of all the\n",
    "# cases with heart attack goes to the training set. So, you need to set up this parameter. \n",
    "\n",
    "x = df_withdummies.loc[:, df_withdummies.columns!='target']\n",
    "y = df_withdummies['target']\n",
    "\n",
    "x_train, x_test, y_train, y_test = train_test_split(x, y, test_size=0.3, random_state=0, stratify=y)"
   ]
  },
  {
   "cell_type": "code",
   "execution_count": 63,
   "id": "786cfa6a",
   "metadata": {
    "scrolled": true
   },
   "outputs": [
    {
     "name": "stdout",
     "output_type": "stream",
     "text": [
      "   age  trestbps   chol  thalach  oldpeak  sex_1  cp_2  cp_3  cp_4  fbs_1.0  \\\n",
      "0   28     130.0  132.0    185.0      0.0      1     1     0     0        0   \n",
      "1   29     120.0  243.0    160.0      0.0      1     1     0     0        0   \n",
      "3   30     170.0  237.0    170.0      0.0      0     0     0     0        0   \n",
      "4   31     100.0  219.0    150.0      0.0      0     1     0     0        0   \n",
      "5   32     105.0  198.0    165.0      0.0      0     1     0     0        0   \n",
      "\n",
      "   exang_1.0  \n",
      "0          0  \n",
      "1          0  \n",
      "3          0  \n",
      "4          0  \n",
      "5          0  \n",
      "     age  trestbps   chol  thalach  oldpeak  sex_1  cp_2  cp_3  cp_4  fbs_1.0  \\\n",
      "15    35     150.0  264.0    168.0      0.0      1     1     0     0        0   \n",
      "70    44     150.0  412.0    170.0      0.0      1     0     0     1        0   \n",
      "160   55     140.0  196.0    150.0      0.0      1     1     0     0        0   \n",
      "233   48     122.0  275.0    150.0      2.0      1     0     0     1        1   \n",
      "193   37     140.0  207.0    130.0      1.5      1     0     0     1        0   \n",
      "\n",
      "     exang_1.0  \n",
      "15           0  \n",
      "70           0  \n",
      "160          0  \n",
      "233          1  \n",
      "193          1  \n"
     ]
    }
   ],
   "source": [
    "print(x.head(5))\n",
    "print(x_train.head(5))"
   ]
  },
  {
   "cell_type": "code",
   "execution_count": 65,
   "id": "c00c85b2",
   "metadata": {},
   "outputs": [
    {
     "name": "stdout",
     "output_type": "stream",
     "text": [
      "(182, 11)\n",
      "(228, 11)\n"
     ]
    }
   ],
   "source": [
    "# balance only the training dataset but keep the originality of the testing dataset. \n",
    "from imblearn.over_sampling import SMOTE\n",
    "os = SMOTE(random_state=0)  # call the method\n",
    "\n",
    "oversampled_x,oversampled_y=os.fit_sample(x_train, y_train)\n",
    "\n",
    "print(x_train.shape)\n",
    "print(oversampled_x.shape)"
   ]
  },
  {
   "cell_type": "markdown",
   "id": "9ee3984a",
   "metadata": {},
   "source": [
    "# Build the model and evaluate it"
   ]
  },
  {
   "cell_type": "code",
   "execution_count": 70,
   "id": "389c2f45",
   "metadata": {},
   "outputs": [
    {
     "data": {
      "text/plain": [
       "LogisticRegression(max_iter=2000, penalty='none')"
      ]
     },
     "execution_count": 70,
     "metadata": {},
     "output_type": "execute_result"
    }
   ],
   "source": [
    "LogRegression = LogisticRegression(penalty='none', max_iter=2000)\n",
    "LogRegression.fit(oversampled_x, oversampled_y.values.ravel())\n",
    "\n",
    "# By default, max_iter =100, and you do not have to set this parameter.However, if it reports an error 'ConvergenceWarning: lbfgs failed to converge (status = 1)', set up max_iter to a higher value. "
   ]
  },
  {
   "cell_type": "code",
   "execution_count": 71,
   "id": "913df59f",
   "metadata": {},
   "outputs": [
    {
     "name": "stderr",
     "output_type": "stream",
     "text": [
      "/Users/yzhang/opt/anaconda3/envs/Python3/lib/python3.10/site-packages/sklearn/utils/deprecation.py:87: FutureWarning: Function plot_roc_curve is deprecated; Function :func:`plot_roc_curve` is deprecated in 1.0 and will be removed in 1.2. Use one of the class methods: :meth:`sklearn.metric.RocCurveDisplay.from_predictions` or :meth:`sklearn.metric.RocCurveDisplay.from_estimator`.\n",
      "  warnings.warn(msg, category=FutureWarning)\n"
     ]
    },
    {
     "data": {
      "text/plain": [
       "<sklearn.metrics._plot.roc_curve.RocCurveDisplay at 0x7fe813873ca0>"
      ]
     },
     "execution_count": 71,
     "metadata": {},
     "output_type": "execute_result"
    },
    {
     "data": {
      "image/png": "[encoded data removed]",
      "text/plain": [
       "<Figure size 432x288 with 1 Axes>"
      ]
     },
     "metadata": {
      "needs_background": "light"
     },
     "output_type": "display_data"
    }
   ],
   "source": [
    "#ROC curve\n",
    "from sklearn import metrics\n",
    "metrics.plot_roc_curve(LogRegression, x_test, y_test)"
   ]
  },
  {
   "cell_type": "code",
   "execution_count": 72,
   "id": "cf07745b",
   "metadata": {},
   "outputs": [
    {
     "name": "stderr",
     "output_type": "stream",
     "text": [
      "/Users/yzhang/opt/anaconda3/envs/Python3/lib/python3.10/site-packages/sklearn/utils/deprecation.py:87: FutureWarning: Function plot_precision_recall_curve is deprecated; Function `plot_precision_recall_curve` is deprecated in 1.0 and will be removed in 1.2. Use one of the class methods: PrecisionRecallDisplay.from_predictions or PrecisionRecallDisplay.from_estimator.\n",
      "  warnings.warn(msg, category=FutureWarning)\n"
     ]
    },
    {
     "data": {
      "text/plain": [
       "<sklearn.metrics._plot.precision_recall_curve.PrecisionRecallDisplay at 0x7fe812e90820>"
      ]
     },
     "execution_count": 72,
     "metadata": {},
     "output_type": "execute_result"
    },
    {
     "data": {
      "image/png": "[encoded data removed]",
      "text/plain": [
       "<Figure size 432x288 with 1 Axes>"
      ]
     },
     "metadata": {
      "needs_background": "light"
     },
     "output_type": "display_data"
    }
   ],
   "source": [
    "#precision-recall curve\n",
    "plot_precision_recall_curve(LogRegression, x_test, y_test)"
   ]
  },
  {
   "cell_type": "code",
   "execution_count": 73,
   "id": "81b7ae6a",
   "metadata": {},
   "outputs": [],
   "source": [
    "# predict the test data\n",
    "test_pred = LogRegression.predict(x_test)"
   ]
  },
  {
   "cell_type": "code",
   "execution_count": 75,
   "id": "b304822f",
   "metadata": {},
   "outputs": [
    {
     "data": {
      "text/plain": [
       "0.8227848101265823"
      ]
     },
     "execution_count": 75,
     "metadata": {},
     "output_type": "execute_result"
    }
   ],
   "source": [
    "accuracy_score(y_test, test_pred)"
   ]
  },
  {
   "cell_type": "code",
   "execution_count": 78,
   "id": "7f4254cc",
   "metadata": {},
   "outputs": [
    {
     "data": {
      "text/plain": [
       "<sklearn.metrics._plot.confusion_matrix.ConfusionMatrixDisplay at 0x7fe81389c370>"
      ]
     },
     "execution_count": 78,
     "metadata": {},
     "output_type": "execute_result"
    },
    {
     "data": {
      "image/png": "[encoded data removed]",
      "text/plain": [
       "<Figure size 432x288 with 2 Axes>"
      ]
     },
     "metadata": {
      "needs_background": "light"
     },
     "output_type": "display_data"
    }
   ],
   "source": [
    "from sklearn.metrics import ConfusionMatrixDisplay\n",
    "ConfusionMatrixDisplay.from_estimator(LogRegression, x_test, y_test)"
   ]
  },
  {
   "cell_type": "code",
   "execution_count": 80,
   "id": "f79ebf04",
   "metadata": {},
   "outputs": [
    {
     "name": "stdout",
     "output_type": "stream",
     "text": [
      "[-3.61587934]\n"
     ]
    }
   ],
   "source": [
    "# Interpret the Results\n",
    "print(LogRegression.intercept_)"
   ]
  },
  {
   "cell_type": "code",
   "execution_count": 82,
   "id": "a55b8215",
   "metadata": {},
   "outputs": [
    {
     "data": {
      "text/html": [
       "<div>\n",
       "<style scoped>\n",
       "    .dataframe tbody tr th:only-of-type {\n",
       "        vertical-align: middle;\n",
       "    }\n",
       "\n",
       "    .dataframe tbody tr th {\n",
       "        vertical-align: top;\n",
       "    }\n",
       "\n",
       "    .dataframe thead th {\n",
       "        text-align: right;\n",
       "    }\n",
       "</style>\n",
       "<table border=\"1\" class=\"dataframe\">\n",
       "  <thead>\n",
       "    <tr style=\"text-align: right;\">\n",
       "      <th></th>\n",
       "      <th>variable</th>\n",
       "      <th>coefficient</th>\n",
       "    </tr>\n",
       "  </thead>\n",
       "  <tbody>\n",
       "    <tr>\n",
       "      <th>0</th>\n",
       "      <td>age</td>\n",
       "      <td>0.016486</td>\n",
       "    </tr>\n",
       "    <tr>\n",
       "      <th>1</th>\n",
       "      <td>trestbps</td>\n",
       "      <td>0.000670</td>\n",
       "    </tr>\n",
       "    <tr>\n",
       "      <th>2</th>\n",
       "      <td>chol</td>\n",
       "      <td>0.005958</td>\n",
       "    </tr>\n",
       "    <tr>\n",
       "      <th>3</th>\n",
       "      <td>thalach</td>\n",
       "      <td>0.005862</td>\n",
       "    </tr>\n",
       "    <tr>\n",
       "      <th>4</th>\n",
       "      <td>oldpeak</td>\n",
       "      <td>1.642742</td>\n",
       "    </tr>\n",
       "    <tr>\n",
       "      <th>5</th>\n",
       "      <td>sex_1</td>\n",
       "      <td>1.735710</td>\n",
       "    </tr>\n",
       "    <tr>\n",
       "      <th>6</th>\n",
       "      <td>cp_2</td>\n",
       "      <td>-4.508552</td>\n",
       "    </tr>\n",
       "    <tr>\n",
       "      <th>7</th>\n",
       "      <td>cp_3</td>\n",
       "      <td>-2.794890</td>\n",
       "    </tr>\n",
       "    <tr>\n",
       "      <th>8</th>\n",
       "      <td>cp_4</td>\n",
       "      <td>-1.311544</td>\n",
       "    </tr>\n",
       "    <tr>\n",
       "      <th>9</th>\n",
       "      <td>fbs_1.0</td>\n",
       "      <td>2.342890</td>\n",
       "    </tr>\n",
       "    <tr>\n",
       "      <th>10</th>\n",
       "      <td>exang_1.0</td>\n",
       "      <td>0.454594</td>\n",
       "    </tr>\n",
       "  </tbody>\n",
       "</table>\n",
       "</div>"
      ],
      "text/plain": [
       "     variable  coefficient\n",
       "0         age     0.016486\n",
       "1    trestbps     0.000670\n",
       "2        chol     0.005958\n",
       "3     thalach     0.005862\n",
       "4     oldpeak     1.642742\n",
       "5       sex_1     1.735710\n",
       "6        cp_2    -4.508552\n",
       "7        cp_3    -2.794890\n",
       "8        cp_4    -1.311544\n",
       "9     fbs_1.0     2.342890\n",
       "10  exang_1.0     0.454594"
      ]
     },
     "execution_count": 82,
     "metadata": {},
     "output_type": "execute_result"
    }
   ],
   "source": [
    "pd.DataFrame(data={'variable': x_train.columns, 'coefficient': LogRegression.coef_[0]})"
   ]
  },
  {
   "cell_type": "code",
   "execution_count": null,
   "id": "c5485878",
   "metadata": {},
   "outputs": [],
   "source": []
  }
 ],
 "metadata": {
  "kernelspec": {
   "display_name": "Python 3 (ipykernel)",
   "language": "python",
   "name": "python3"
  },
  "language_info": {
   "codemirror_mode": {
    "name": "ipython",
    "version": 3
   },
   "file_extension": ".py",
   "mimetype": "text/x-python",
   "name": "python",
   "nbconvert_exporter": "python",
   "pygments_lexer": "ipython3",
   "version": "3.10.4"
  }
 },
 "nbformat": 4,
 "nbformat_minor": 5
}
