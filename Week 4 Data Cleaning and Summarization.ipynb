{
 "cells": [
  {
   "cell_type": "markdown",
   "id": "558f9e48",
   "metadata": {},
   "source": [
    "# Read the data and get an overview"
   ]
  },
  {
   "cell_type": "code",
   "execution_count": 51,
   "id": "06be3175",
   "metadata": {},
   "outputs": [],
   "source": [
    "# link to the dataset, https://www.kaggle.com/c/sberbank-russian-housing-market. The file used in this project is train.csv.\n",
    "import pandas as pd\n",
    "df = pd.read_csv('sberbank.csv')"
   ]
  },
  {
   "cell_type": "code",
   "execution_count": 52,
   "id": "3e02c57a",
   "metadata": {},
   "outputs": [
    {
     "name": "stdout",
     "output_type": "stream",
     "text": [
      "shape: (30471, 292)\n"
     ]
    }
   ],
   "source": [
    "print(\"shape:\", df.shape)"
   ]
  },
  {
   "cell_type": "code",
   "execution_count": 53,
   "id": "c2abb9ed",
   "metadata": {},
   "outputs": [
    {
     "name": "stdout",
     "output_type": "stream",
     "text": [
      "Column Headers\n",
      " Index(['id', 'timestamp', 'full_sq', 'life_sq', 'floor', 'max_floor',\n",
      "       'material', 'build_year', 'num_room', 'kitch_sq',\n",
      "       ...\n",
      "       'cafe_count_5000_price_2500', 'cafe_count_5000_price_4000',\n",
      "       'cafe_count_5000_price_high', 'big_church_count_5000',\n",
      "       'church_count_5000', 'mosque_count_5000', 'leisure_count_5000',\n",
      "       'sport_count_5000', 'market_count_5000', 'price_doc'],\n",
      "      dtype='object', length=292)\n"
     ]
    }
   ],
   "source": [
    "print(\"Column Headers\\n\", df.columns)"
   ]
  },
  {
   "cell_type": "code",
   "execution_count": 54,
   "id": "1baeeb59",
   "metadata": {},
   "outputs": [
    {
     "name": "stdout",
     "output_type": "stream",
     "text": [
      "id                      int64\n",
      "timestamp              object\n",
      "full_sq                 int64\n",
      "life_sq               float64\n",
      "floor                 float64\n",
      "                       ...   \n",
      "mosque_count_5000       int64\n",
      "leisure_count_5000      int64\n",
      "sport_count_5000        int64\n",
      "market_count_5000       int64\n",
      "price_doc               int64\n",
      "Length: 292, dtype: object\n"
     ]
    }
   ],
   "source": [
    "print(df.dtypes)"
   ]
  },
  {
   "cell_type": "code",
   "execution_count": 55,
   "id": "907256d0",
   "metadata": {},
   "outputs": [
    {
     "name": "stdout",
     "output_type": "stream",
     "text": [
      "   id   timestamp  full_sq  life_sq  floor  max_floor  material  build_year  \\\n",
      "0   1  2011-08-20       43     27.0    4.0        NaN       NaN         NaN   \n",
      "1   2  2011-08-23       34     19.0    3.0        NaN       NaN         NaN   \n",
      "2   3  2011-08-27       43     29.0    2.0        NaN       NaN         NaN   \n",
      "3   4  2011-09-01       89     50.0    9.0        NaN       NaN         NaN   \n",
      "4   5  2011-09-05       77     77.0    4.0        NaN       NaN         NaN   \n",
      "5   6  2011-09-06       67     46.0   14.0        NaN       NaN         NaN   \n",
      "6   7  2011-09-08       25     14.0   10.0        NaN       NaN         NaN   \n",
      "7   8  2011-09-09       44     44.0    5.0        NaN       NaN         NaN   \n",
      "8   9  2011-09-10       42     27.0    5.0        NaN       NaN         NaN   \n",
      "9  10  2011-09-13       36     21.0    9.0        NaN       NaN         NaN   \n",
      "\n",
      "   num_room  kitch_sq  ...  cafe_count_5000_price_2500  \\\n",
      "0       NaN       NaN  ...                           9   \n",
      "1       NaN       NaN  ...                          15   \n",
      "2       NaN       NaN  ...                          10   \n",
      "3       NaN       NaN  ...                          11   \n",
      "4       NaN       NaN  ...                         319   \n",
      "5       NaN       NaN  ...                          62   \n",
      "6       NaN       NaN  ...                          81   \n",
      "7       NaN       NaN  ...                           9   \n",
      "8       NaN       NaN  ...                          19   \n",
      "9       NaN       NaN  ...                          19   \n",
      "\n",
      "  cafe_count_5000_price_4000 cafe_count_5000_price_high  \\\n",
      "0                          4                          0   \n",
      "1                          3                          0   \n",
      "2                          3                          0   \n",
      "3                          2                          1   \n",
      "4                        108                         17   \n",
      "5                         14                          1   \n",
      "6                         16                          3   \n",
      "7                          4                          0   \n",
      "8                          8                          1   \n",
      "9                         13                          0   \n",
      "\n",
      "   big_church_count_5000  church_count_5000  mosque_count_5000  \\\n",
      "0                     13                 22                  1   \n",
      "1                     15                 29                  1   \n",
      "2                     11                 27                  0   \n",
      "3                      4                  4                  0   \n",
      "4                    135                236                  2   \n",
      "5                     53                 78                  1   \n",
      "6                     38                 80                  1   \n",
      "7                     11                 18                  1   \n",
      "8                     18                 34                  1   \n",
      "9                     10                 20                  1   \n",
      "\n",
      "   leisure_count_5000  sport_count_5000  market_count_5000  price_doc  \n",
      "0                   0                52                  4    5850000  \n",
      "1                  10                66                 14    6000000  \n",
      "2                   4                67                 10    5700000  \n",
      "3                   0                26                  3   13100000  \n",
      "4                  91               195                 14   16331452  \n",
      "5                  20               113                 17    9100000  \n",
      "6                  27               127                  8    5500000  \n",
      "7                   0                47                  4    2000000  \n",
      "8                   3                85                 11    5300000  \n",
      "9                   3                67                  1    2000000  \n",
      "\n",
      "[10 rows x 292 columns]\n"
     ]
    }
   ],
   "source": [
    "print(df.head(10))"
   ]
  },
  {
   "cell_type": "markdown",
   "id": "8010dac2",
   "metadata": {},
   "source": [
    "# Check the missing data"
   ]
  },
  {
   "cell_type": "code",
   "execution_count": 56,
   "id": "604eceed",
   "metadata": {},
   "outputs": [
    {
     "name": "stdout",
     "output_type": "stream",
     "text": [
      "id                       0\n",
      "timestamp                0\n",
      "full_sq                  0\n",
      "life_sq               6383\n",
      "floor                  167\n",
      "                      ... \n",
      "mosque_count_5000        0\n",
      "leisure_count_5000       0\n",
      "sport_count_5000         0\n",
      "market_count_5000        0\n",
      "price_doc                0\n",
      "Length: 292, dtype: int64\n"
     ]
    }
   ],
   "source": [
    "print(df.isnull().sum())"
   ]
  },
  {
   "cell_type": "code",
   "execution_count": 57,
   "id": "5944505f",
   "metadata": {},
   "outputs": [
    {
     "name": "stdout",
     "output_type": "stream",
     "text": [
      "id 0.0\n",
      "timestamp 0.0\n",
      "full_sq 0.0\n",
      "life_sq 0.21\n",
      "floor 0.01\n",
      "max_floor 0.31\n",
      "material 0.31\n",
      "build_year 0.45\n",
      "num_room 0.31\n",
      "kitch_sq 0.31\n",
      "state 0.44\n",
      "product_type 0.0\n",
      "sub_area 0.0\n",
      "area_m 0.0\n",
      "raion_popul 0.0\n",
      "green_zone_part 0.0\n",
      "indust_part 0.0\n",
      "children_preschool 0.0\n",
      "preschool_quota 0.22\n",
      "preschool_education_centers_raion 0.0\n",
      "children_school 0.0\n",
      "school_quota 0.22\n",
      "school_education_centers_raion 0.0\n",
      "school_education_centers_top_20_raion 0.0\n",
      "hospital_beds_raion 0.47\n",
      "healthcare_centers_raion 0.0\n",
      "university_top_20_raion 0.0\n",
      "sport_objects_raion 0.0\n",
      "additional_education_raion 0.0\n",
      "culture_objects_top_25 0.0\n",
      "culture_objects_top_25_raion 0.0\n",
      "shopping_centers_raion 0.0\n",
      "office_raion 0.0\n",
      "thermal_power_plant_raion 0.0\n",
      "incineration_raion 0.0\n",
      "oil_chemistry_raion 0.0\n",
      "radiation_raion 0.0\n",
      "railroad_terminal_raion 0.0\n",
      "big_market_raion 0.0\n",
      "nuclear_reactor_raion 0.0\n",
      "detention_facility_raion 0.0\n",
      "full_all 0.0\n",
      "male_f 0.0\n",
      "female_f 0.0\n",
      "young_all 0.0\n",
      "young_male 0.0\n",
      "young_female 0.0\n",
      "work_all 0.0\n",
      "work_male 0.0\n",
      "work_female 0.0\n",
      "ekder_all 0.0\n",
      "ekder_male 0.0\n",
      "ekder_female 0.0\n",
      "0_6_all 0.0\n",
      "0_6_male 0.0\n",
      "0_6_female 0.0\n",
      "7_14_all 0.0\n",
      "7_14_male 0.0\n",
      "7_14_female 0.0\n",
      "0_17_all 0.0\n",
      "0_17_male 0.0\n",
      "0_17_female 0.0\n",
      "16_29_all 0.0\n",
      "16_29_male 0.0\n",
      "16_29_female 0.0\n",
      "0_13_all 0.0\n",
      "0_13_male 0.0\n",
      "0_13_female 0.0\n",
      "raion_build_count_with_material_info 0.16\n",
      "build_count_block 0.16\n",
      "build_count_wood 0.16\n",
      "build_count_frame 0.16\n",
      "build_count_brick 0.16\n",
      "build_count_monolith 0.16\n",
      "build_count_panel 0.16\n",
      "build_count_foam 0.16\n",
      "build_count_slag 0.16\n",
      "build_count_mix 0.16\n",
      "raion_build_count_with_builddate_info 0.16\n",
      "build_count_before_1920 0.16\n",
      "build_count_1921-1945 0.16\n",
      "build_count_1946-1970 0.16\n",
      "build_count_1971-1995 0.16\n",
      "build_count_after_1995 0.16\n",
      "ID_metro 0.0\n",
      "metro_min_avto 0.0\n",
      "metro_km_avto 0.0\n",
      "metro_min_walk 0.0\n",
      "metro_km_walk 0.0\n",
      "kindergarten_km 0.0\n",
      "school_km 0.0\n",
      "park_km 0.0\n",
      "green_zone_km 0.0\n",
      "industrial_km 0.0\n",
      "water_treatment_km 0.0\n",
      "cemetery_km 0.0\n",
      "incineration_km 0.0\n",
      "railroad_station_walk_km 0.0\n",
      "railroad_station_walk_min 0.0\n",
      "ID_railroad_station_walk 0.0\n",
      "railroad_station_avto_km 0.0\n",
      "railroad_station_avto_min 0.0\n",
      "ID_railroad_station_avto 0.0\n",
      "public_transport_station_km 0.0\n",
      "public_transport_station_min_walk 0.0\n",
      "water_km 0.0\n",
      "water_1line 0.0\n",
      "mkad_km 0.0\n",
      "ttk_km 0.0\n",
      "sadovoe_km 0.0\n",
      "bulvar_ring_km 0.0\n",
      "kremlin_km 0.0\n",
      "big_road1_km 0.0\n",
      "ID_big_road1 0.0\n",
      "big_road1_1line 0.0\n",
      "big_road2_km 0.0\n",
      "ID_big_road2 0.0\n",
      "railroad_km 0.0\n",
      "railroad_1line 0.0\n",
      "zd_vokzaly_avto_km 0.0\n",
      "ID_railroad_terminal 0.0\n",
      "bus_terminal_avto_km 0.0\n",
      "ID_bus_terminal 0.0\n",
      "oil_chemistry_km 0.0\n",
      "nuclear_reactor_km 0.0\n",
      "radiation_km 0.0\n",
      "power_transmission_line_km 0.0\n",
      "thermal_power_plant_km 0.0\n",
      "ts_km 0.0\n",
      "big_market_km 0.0\n",
      "market_shop_km 0.0\n",
      "fitness_km 0.0\n",
      "swim_pool_km 0.0\n",
      "ice_rink_km 0.0\n",
      "stadium_km 0.0\n",
      "basketball_km 0.0\n",
      "hospice_morgue_km 0.0\n",
      "detention_facility_km 0.0\n",
      "public_healthcare_km 0.0\n",
      "university_km 0.0\n",
      "workplaces_km 0.0\n",
      "shopping_centers_km 0.0\n",
      "office_km 0.0\n",
      "additional_education_km 0.0\n",
      "preschool_km 0.0\n",
      "big_church_km 0.0\n",
      "church_synagogue_km 0.0\n",
      "mosque_km 0.0\n",
      "theater_km 0.0\n",
      "museum_km 0.0\n",
      "exhibition_km 0.0\n",
      "catering_km 0.0\n",
      "ecology 0.0\n",
      "green_part_500 0.0\n",
      "prom_part_500 0.0\n",
      "office_count_500 0.0\n",
      "office_sqm_500 0.0\n",
      "trc_count_500 0.0\n",
      "trc_sqm_500 0.0\n",
      "cafe_count_500 0.0\n",
      "cafe_sum_500_min_price_avg 0.44\n",
      "cafe_sum_500_max_price_avg 0.44\n",
      "cafe_avg_price_500 0.44\n",
      "cafe_count_500_na_price 0.0\n",
      "cafe_count_500_price_500 0.0\n",
      "cafe_count_500_price_1000 0.0\n",
      "cafe_count_500_price_1500 0.0\n",
      "cafe_count_500_price_2500 0.0\n",
      "cafe_count_500_price_4000 0.0\n",
      "cafe_count_500_price_high 0.0\n",
      "big_church_count_500 0.0\n",
      "church_count_500 0.0\n",
      "mosque_count_500 0.0\n",
      "leisure_count_500 0.0\n",
      "sport_count_500 0.0\n",
      "market_count_500 0.0\n",
      "green_part_1000 0.0\n",
      "prom_part_1000 0.0\n",
      "office_count_1000 0.0\n",
      "office_sqm_1000 0.0\n",
      "trc_count_1000 0.0\n",
      "trc_sqm_1000 0.0\n",
      "cafe_count_1000 0.0\n",
      "cafe_sum_1000_min_price_avg 0.21\n",
      "cafe_sum_1000_max_price_avg 0.21\n",
      "cafe_avg_price_1000 0.21\n",
      "cafe_count_1000_na_price 0.0\n",
      "cafe_count_1000_price_500 0.0\n",
      "cafe_count_1000_price_1000 0.0\n",
      "cafe_count_1000_price_1500 0.0\n",
      "cafe_count_1000_price_2500 0.0\n",
      "cafe_count_1000_price_4000 0.0\n",
      "cafe_count_1000_price_high 0.0\n",
      "big_church_count_1000 0.0\n",
      "church_count_1000 0.0\n",
      "mosque_count_1000 0.0\n",
      "leisure_count_1000 0.0\n",
      "sport_count_1000 0.0\n",
      "market_count_1000 0.0\n",
      "green_part_1500 0.0\n",
      "prom_part_1500 0.0\n",
      "office_count_1500 0.0\n",
      "office_sqm_1500 0.0\n",
      "trc_count_1500 0.0\n",
      "trc_sqm_1500 0.0\n",
      "cafe_count_1500 0.0\n",
      "cafe_sum_1500_min_price_avg 0.14\n",
      "cafe_sum_1500_max_price_avg 0.14\n",
      "cafe_avg_price_1500 0.14\n",
      "cafe_count_1500_na_price 0.0\n",
      "cafe_count_1500_price_500 0.0\n",
      "cafe_count_1500_price_1000 0.0\n",
      "cafe_count_1500_price_1500 0.0\n",
      "cafe_count_1500_price_2500 0.0\n",
      "cafe_count_1500_price_4000 0.0\n",
      "cafe_count_1500_price_high 0.0\n",
      "big_church_count_1500 0.0\n",
      "church_count_1500 0.0\n",
      "mosque_count_1500 0.0\n",
      "leisure_count_1500 0.0\n",
      "sport_count_1500 0.0\n",
      "market_count_1500 0.0\n",
      "green_part_2000 0.0\n",
      "prom_part_2000 0.0\n",
      "office_count_2000 0.0\n",
      "office_sqm_2000 0.0\n",
      "trc_count_2000 0.0\n",
      "trc_sqm_2000 0.0\n",
      "cafe_count_2000 0.0\n",
      "cafe_sum_2000_min_price_avg 0.06\n",
      "cafe_sum_2000_max_price_avg 0.06\n",
      "cafe_avg_price_2000 0.06\n",
      "cafe_count_2000_na_price 0.0\n",
      "cafe_count_2000_price_500 0.0\n",
      "cafe_count_2000_price_1000 0.0\n",
      "cafe_count_2000_price_1500 0.0\n",
      "cafe_count_2000_price_2500 0.0\n",
      "cafe_count_2000_price_4000 0.0\n",
      "cafe_count_2000_price_high 0.0\n",
      "big_church_count_2000 0.0\n",
      "church_count_2000 0.0\n",
      "mosque_count_2000 0.0\n",
      "leisure_count_2000 0.0\n",
      "sport_count_2000 0.0\n",
      "market_count_2000 0.0\n",
      "green_part_3000 0.0\n",
      "prom_part_3000 0.0\n",
      "office_count_3000 0.0\n",
      "office_sqm_3000 0.0\n",
      "trc_count_3000 0.0\n",
      "trc_sqm_3000 0.0\n",
      "cafe_count_3000 0.0\n",
      "cafe_sum_3000_min_price_avg 0.03\n",
      "cafe_sum_3000_max_price_avg 0.03\n",
      "cafe_avg_price_3000 0.03\n",
      "cafe_count_3000_na_price 0.0\n",
      "cafe_count_3000_price_500 0.0\n",
      "cafe_count_3000_price_1000 0.0\n",
      "cafe_count_3000_price_1500 0.0\n",
      "cafe_count_3000_price_2500 0.0\n",
      "cafe_count_3000_price_4000 0.0\n",
      "cafe_count_3000_price_high 0.0\n",
      "big_church_count_3000 0.0\n",
      "church_count_3000 0.0\n",
      "mosque_count_3000 0.0\n",
      "leisure_count_3000 0.0\n",
      "sport_count_3000 0.0\n",
      "market_count_3000 0.0\n",
      "green_part_5000 0.0\n",
      "prom_part_5000 0.01\n",
      "office_count_5000 0.0\n",
      "office_sqm_5000 0.0\n",
      "trc_count_5000 0.0\n",
      "trc_sqm_5000 0.0\n",
      "cafe_count_5000 0.0\n",
      "cafe_sum_5000_min_price_avg 0.01\n",
      "cafe_sum_5000_max_price_avg 0.01\n",
      "cafe_avg_price_5000 0.01\n",
      "cafe_count_5000_na_price 0.0\n",
      "cafe_count_5000_price_500 0.0\n",
      "cafe_count_5000_price_1000 0.0\n",
      "cafe_count_5000_price_1500 0.0\n",
      "cafe_count_5000_price_2500 0.0\n",
      "cafe_count_5000_price_4000 0.0\n",
      "cafe_count_5000_price_high 0.0\n",
      "big_church_count_5000 0.0\n",
      "church_count_5000 0.0\n",
      "mosque_count_5000 0.0\n",
      "leisure_count_5000 0.0\n",
      "sport_count_5000 0.0\n",
      "market_count_5000 0.0\n",
      "price_doc 0.0\n"
     ]
    }
   ],
   "source": [
    "import numpy as np\n",
    "for cols in df.columns:\n",
    "    pct_missing = (df[cols].isnull().sum())/df.shape[0]\n",
    "    print(cols , round(pct_missing, 2))"
   ]
  },
  {
   "cell_type": "markdown",
   "id": "6754907f",
   "metadata": {},
   "source": [
    "# Drop unnecessary features"
   ]
  },
  {
   "cell_type": "code",
   "execution_count": 58,
   "id": "7ddb7236",
   "metadata": {},
   "outputs": [
    {
     "name": "stdout",
     "output_type": "stream",
     "text": [
      "(30471, 30)\n"
     ]
    }
   ],
   "source": [
    "# drop the features that does not provide useful information\n",
    "cols = df.columns   \n",
    "remove = cols[30:]\n",
    "df.drop(remove, inplace=True, axis=1)\n",
    "print(df.shape)"
   ]
  },
  {
   "cell_type": "code",
   "execution_count": 59,
   "id": "9ecf9a02",
   "metadata": {},
   "outputs": [
    {
     "name": "stdout",
     "output_type": "stream",
     "text": [
      "(30471, 29)\n"
     ]
    }
   ],
   "source": [
    "# drop a column by its column name\n",
    "remove = ['hospital_beds_raion']\n",
    "df.drop(remove, inplace=True, axis=1)\n",
    "print(df.shape)"
   ]
  },
  {
   "cell_type": "markdown",
   "id": "6785f301",
   "metadata": {},
   "source": [
    "# Drop rows with missing values"
   ]
  },
  {
   "cell_type": "code",
   "execution_count": 60,
   "id": "ab30460f",
   "metadata": {},
   "outputs": [
    {
     "data": {
      "text/plain": [
       "(20899, 29)"
      ]
     },
     "execution_count": 60,
     "metadata": {},
     "output_type": "execute_result"
    }
   ],
   "source": [
    "# drop rows with over 5 missing values across the columns\n",
    "df_lessmissingvalue = df.dropna(axis=0, thresh = 24)    # 29columns - 5 columns = 24\n",
    "df_lessmissingvalue.shape"
   ]
  },
  {
   "cell_type": "code",
   "execution_count": 61,
   "id": "397d53ef",
   "metadata": {},
   "outputs": [
    {
     "data": {
      "text/plain": [
       "(16866, 29)"
      ]
     },
     "execution_count": 61,
     "metadata": {},
     "output_type": "execute_result"
    }
   ],
   "source": [
    "# drop rows if missing values are present in build-year\n",
    "df_lessmissingvalue2 = df_nomissingvalue.dropna(subset=['build_year'])\n",
    "df_lessmissingvalue2.shape"
   ]
  },
  {
   "cell_type": "markdown",
   "id": "f2e620d6",
   "metadata": {},
   "source": [
    "# Replace missing values with zero or the most frequent value"
   ]
  },
  {
   "cell_type": "code",
   "execution_count": 64,
   "id": "1ed5710c",
   "metadata": {},
   "outputs": [
    {
     "name": "stdout",
     "output_type": "stream",
     "text": [
      "2.0\n"
     ]
    }
   ],
   "source": [
    "med = df_lessmissingvalue2['num_room'].median()\n",
    "print(med)\n",
    "df_lessmissingvalue2['num_room'].fillna(med, inplace = True)"
   ]
  },
  {
   "cell_type": "code",
   "execution_count": 65,
   "id": "48321e7a",
   "metadata": {
    "scrolled": true
   },
   "outputs": [
    {
     "data": {
      "text/html": [
       "<div>\n",
       "<style scoped>\n",
       "    .dataframe tbody tr th:only-of-type {\n",
       "        vertical-align: middle;\n",
       "    }\n",
       "\n",
       "    .dataframe tbody tr th {\n",
       "        vertical-align: top;\n",
       "    }\n",
       "\n",
       "    .dataframe thead th {\n",
       "        text-align: right;\n",
       "    }\n",
       "</style>\n",
       "<table border=\"1\" class=\"dataframe\">\n",
       "  <thead>\n",
       "    <tr style=\"text-align: right;\">\n",
       "      <th></th>\n",
       "      <th>id</th>\n",
       "      <th>timestamp</th>\n",
       "      <th>full_sq</th>\n",
       "      <th>life_sq</th>\n",
       "      <th>floor</th>\n",
       "      <th>max_floor</th>\n",
       "      <th>material</th>\n",
       "      <th>build_year</th>\n",
       "      <th>num_room</th>\n",
       "      <th>kitch_sq</th>\n",
       "      <th>...</th>\n",
       "      <th>preschool_education_centers_raion</th>\n",
       "      <th>children_school</th>\n",
       "      <th>school_quota</th>\n",
       "      <th>school_education_centers_raion</th>\n",
       "      <th>school_education_centers_top_20_raion</th>\n",
       "      <th>healthcare_centers_raion</th>\n",
       "      <th>university_top_20_raion</th>\n",
       "      <th>sport_objects_raion</th>\n",
       "      <th>additional_education_raion</th>\n",
       "      <th>culture_objects_top_25</th>\n",
       "    </tr>\n",
       "  </thead>\n",
       "  <tbody>\n",
       "    <tr>\n",
       "      <th>8056</th>\n",
       "      <td>8059</td>\n",
       "      <td>2013-05-21</td>\n",
       "      <td>11</td>\n",
       "      <td>11.0</td>\n",
       "      <td>2.0</td>\n",
       "      <td>5.0</td>\n",
       "      <td>2.0</td>\n",
       "      <td>1907.0</td>\n",
       "      <td>1.0</td>\n",
       "      <td>12.0</td>\n",
       "      <td>...</td>\n",
       "      <td>5</td>\n",
       "      <td>7538</td>\n",
       "      <td>9337.0</td>\n",
       "      <td>8</td>\n",
       "      <td>1</td>\n",
       "      <td>5</td>\n",
       "      <td>1</td>\n",
       "      <td>23</td>\n",
       "      <td>2</td>\n",
       "      <td>yes</td>\n",
       "    </tr>\n",
       "    <tr>\n",
       "      <th>8135</th>\n",
       "      <td>8138</td>\n",
       "      <td>2013-05-25</td>\n",
       "      <td>53</td>\n",
       "      <td>30.0</td>\n",
       "      <td>10.0</td>\n",
       "      <td>16.0</td>\n",
       "      <td>1.0</td>\n",
       "      <td>1980.0</td>\n",
       "      <td>2.0</td>\n",
       "      <td>8.0</td>\n",
       "      <td>...</td>\n",
       "      <td>5</td>\n",
       "      <td>4583</td>\n",
       "      <td>7236.0</td>\n",
       "      <td>5</td>\n",
       "      <td>0</td>\n",
       "      <td>3</td>\n",
       "      <td>0</td>\n",
       "      <td>4</td>\n",
       "      <td>3</td>\n",
       "      <td>no</td>\n",
       "    </tr>\n",
       "    <tr>\n",
       "      <th>8153</th>\n",
       "      <td>8156</td>\n",
       "      <td>2013-05-27</td>\n",
       "      <td>77</td>\n",
       "      <td>41.0</td>\n",
       "      <td>2.0</td>\n",
       "      <td>17.0</td>\n",
       "      <td>6.0</td>\n",
       "      <td>2014.0</td>\n",
       "      <td>3.0</td>\n",
       "      <td>12.0</td>\n",
       "      <td>...</td>\n",
       "      <td>0</td>\n",
       "      <td>469</td>\n",
       "      <td>NaN</td>\n",
       "      <td>0</td>\n",
       "      <td>0</td>\n",
       "      <td>0</td>\n",
       "      <td>0</td>\n",
       "      <td>0</td>\n",
       "      <td>2</td>\n",
       "      <td>no</td>\n",
       "    </tr>\n",
       "    <tr>\n",
       "      <th>8154</th>\n",
       "      <td>8157</td>\n",
       "      <td>2013-05-27</td>\n",
       "      <td>45</td>\n",
       "      <td>27.0</td>\n",
       "      <td>6.0</td>\n",
       "      <td>9.0</td>\n",
       "      <td>1.0</td>\n",
       "      <td>1970.0</td>\n",
       "      <td>2.0</td>\n",
       "      <td>6.0</td>\n",
       "      <td>...</td>\n",
       "      <td>6</td>\n",
       "      <td>4798</td>\n",
       "      <td>7653.0</td>\n",
       "      <td>6</td>\n",
       "      <td>0</td>\n",
       "      <td>2</td>\n",
       "      <td>0</td>\n",
       "      <td>6</td>\n",
       "      <td>1</td>\n",
       "      <td>no</td>\n",
       "    </tr>\n",
       "    <tr>\n",
       "      <th>8175</th>\n",
       "      <td>8178</td>\n",
       "      <td>2013-05-28</td>\n",
       "      <td>38</td>\n",
       "      <td>20.0</td>\n",
       "      <td>15.0</td>\n",
       "      <td>16.0</td>\n",
       "      <td>1.0</td>\n",
       "      <td>1982.0</td>\n",
       "      <td>1.0</td>\n",
       "      <td>8.0</td>\n",
       "      <td>...</td>\n",
       "      <td>5</td>\n",
       "      <td>3889</td>\n",
       "      <td>4904.0</td>\n",
       "      <td>5</td>\n",
       "      <td>0</td>\n",
       "      <td>3</td>\n",
       "      <td>0</td>\n",
       "      <td>18</td>\n",
       "      <td>1</td>\n",
       "      <td>no</td>\n",
       "    </tr>\n",
       "    <tr>\n",
       "      <th>8186</th>\n",
       "      <td>8189</td>\n",
       "      <td>2013-05-28</td>\n",
       "      <td>63</td>\n",
       "      <td>NaN</td>\n",
       "      <td>17.0</td>\n",
       "      <td>17.0</td>\n",
       "      <td>4.0</td>\n",
       "      <td>2013.0</td>\n",
       "      <td>2.0</td>\n",
       "      <td>1.0</td>\n",
       "      <td>...</td>\n",
       "      <td>5</td>\n",
       "      <td>1564</td>\n",
       "      <td>7377.0</td>\n",
       "      <td>5</td>\n",
       "      <td>0</td>\n",
       "      <td>0</td>\n",
       "      <td>0</td>\n",
       "      <td>0</td>\n",
       "      <td>4</td>\n",
       "      <td>no</td>\n",
       "    </tr>\n",
       "    <tr>\n",
       "      <th>8255</th>\n",
       "      <td>8258</td>\n",
       "      <td>2013-05-30</td>\n",
       "      <td>74</td>\n",
       "      <td>46.0</td>\n",
       "      <td>12.0</td>\n",
       "      <td>24.0</td>\n",
       "      <td>1.0</td>\n",
       "      <td>2004.0</td>\n",
       "      <td>3.0</td>\n",
       "      <td>9.0</td>\n",
       "      <td>...</td>\n",
       "      <td>4</td>\n",
       "      <td>4860</td>\n",
       "      <td>6476.0</td>\n",
       "      <td>4</td>\n",
       "      <td>1</td>\n",
       "      <td>0</td>\n",
       "      <td>0</td>\n",
       "      <td>4</td>\n",
       "      <td>2</td>\n",
       "      <td>no</td>\n",
       "    </tr>\n",
       "    <tr>\n",
       "      <th>8268</th>\n",
       "      <td>8271</td>\n",
       "      <td>2013-05-31</td>\n",
       "      <td>93</td>\n",
       "      <td>93.0</td>\n",
       "      <td>3.0</td>\n",
       "      <td>1.0</td>\n",
       "      <td>1.0</td>\n",
       "      <td>2013.0</td>\n",
       "      <td>3.0</td>\n",
       "      <td>1.0</td>\n",
       "      <td>...</td>\n",
       "      <td>0</td>\n",
       "      <td>475</td>\n",
       "      <td>NaN</td>\n",
       "      <td>0</td>\n",
       "      <td>0</td>\n",
       "      <td>0</td>\n",
       "      <td>0</td>\n",
       "      <td>0</td>\n",
       "      <td>0</td>\n",
       "      <td>no</td>\n",
       "    </tr>\n",
       "    <tr>\n",
       "      <th>8282</th>\n",
       "      <td>8285</td>\n",
       "      <td>2013-06-01</td>\n",
       "      <td>51</td>\n",
       "      <td>30.0</td>\n",
       "      <td>7.0</td>\n",
       "      <td>17.0</td>\n",
       "      <td>1.0</td>\n",
       "      <td>2003.0</td>\n",
       "      <td>2.0</td>\n",
       "      <td>9.0</td>\n",
       "      <td>...</td>\n",
       "      <td>5</td>\n",
       "      <td>7065</td>\n",
       "      <td>9700.0</td>\n",
       "      <td>5</td>\n",
       "      <td>0</td>\n",
       "      <td>2</td>\n",
       "      <td>0</td>\n",
       "      <td>4</td>\n",
       "      <td>3</td>\n",
       "      <td>no</td>\n",
       "    </tr>\n",
       "    <tr>\n",
       "      <th>8287</th>\n",
       "      <td>8290</td>\n",
       "      <td>2013-06-03</td>\n",
       "      <td>77</td>\n",
       "      <td>50.0</td>\n",
       "      <td>3.0</td>\n",
       "      <td>5.0</td>\n",
       "      <td>2.0</td>\n",
       "      <td>1957.0</td>\n",
       "      <td>3.0</td>\n",
       "      <td>8.0</td>\n",
       "      <td>...</td>\n",
       "      <td>3</td>\n",
       "      <td>4231</td>\n",
       "      <td>4975.0</td>\n",
       "      <td>6</td>\n",
       "      <td>1</td>\n",
       "      <td>0</td>\n",
       "      <td>1</td>\n",
       "      <td>4</td>\n",
       "      <td>3</td>\n",
       "      <td>no</td>\n",
       "    </tr>\n",
       "  </tbody>\n",
       "</table>\n",
       "<p>10 rows × 29 columns</p>\n",
       "</div>"
      ],
      "text/plain": [
       "        id   timestamp  full_sq  life_sq  floor  max_floor  material  \\\n",
       "8056  8059  2013-05-21       11     11.0    2.0        5.0       2.0   \n",
       "8135  8138  2013-05-25       53     30.0   10.0       16.0       1.0   \n",
       "8153  8156  2013-05-27       77     41.0    2.0       17.0       6.0   \n",
       "8154  8157  2013-05-27       45     27.0    6.0        9.0       1.0   \n",
       "8175  8178  2013-05-28       38     20.0   15.0       16.0       1.0   \n",
       "8186  8189  2013-05-28       63      NaN   17.0       17.0       4.0   \n",
       "8255  8258  2013-05-30       74     46.0   12.0       24.0       1.0   \n",
       "8268  8271  2013-05-31       93     93.0    3.0        1.0       1.0   \n",
       "8282  8285  2013-06-01       51     30.0    7.0       17.0       1.0   \n",
       "8287  8290  2013-06-03       77     50.0    3.0        5.0       2.0   \n",
       "\n",
       "      build_year  num_room  kitch_sq  ...  preschool_education_centers_raion  \\\n",
       "8056      1907.0       1.0      12.0  ...                                  5   \n",
       "8135      1980.0       2.0       8.0  ...                                  5   \n",
       "8153      2014.0       3.0      12.0  ...                                  0   \n",
       "8154      1970.0       2.0       6.0  ...                                  6   \n",
       "8175      1982.0       1.0       8.0  ...                                  5   \n",
       "8186      2013.0       2.0       1.0  ...                                  5   \n",
       "8255      2004.0       3.0       9.0  ...                                  4   \n",
       "8268      2013.0       3.0       1.0  ...                                  0   \n",
       "8282      2003.0       2.0       9.0  ...                                  5   \n",
       "8287      1957.0       3.0       8.0  ...                                  3   \n",
       "\n",
       "     children_school school_quota  school_education_centers_raion  \\\n",
       "8056            7538       9337.0                               8   \n",
       "8135            4583       7236.0                               5   \n",
       "8153             469          NaN                               0   \n",
       "8154            4798       7653.0                               6   \n",
       "8175            3889       4904.0                               5   \n",
       "8186            1564       7377.0                               5   \n",
       "8255            4860       6476.0                               4   \n",
       "8268             475          NaN                               0   \n",
       "8282            7065       9700.0                               5   \n",
       "8287            4231       4975.0                               6   \n",
       "\n",
       "      school_education_centers_top_20_raion  healthcare_centers_raion  \\\n",
       "8056                                      1                         5   \n",
       "8135                                      0                         3   \n",
       "8153                                      0                         0   \n",
       "8154                                      0                         2   \n",
       "8175                                      0                         3   \n",
       "8186                                      0                         0   \n",
       "8255                                      1                         0   \n",
       "8268                                      0                         0   \n",
       "8282                                      0                         2   \n",
       "8287                                      1                         0   \n",
       "\n",
       "      university_top_20_raion  sport_objects_raion  \\\n",
       "8056                        1                   23   \n",
       "8135                        0                    4   \n",
       "8153                        0                    0   \n",
       "8154                        0                    6   \n",
       "8175                        0                   18   \n",
       "8186                        0                    0   \n",
       "8255                        0                    4   \n",
       "8268                        0                    0   \n",
       "8282                        0                    4   \n",
       "8287                        1                    4   \n",
       "\n",
       "      additional_education_raion  culture_objects_top_25  \n",
       "8056                           2                     yes  \n",
       "8135                           3                      no  \n",
       "8153                           2                      no  \n",
       "8154                           1                      no  \n",
       "8175                           1                      no  \n",
       "8186                           4                      no  \n",
       "8255                           2                      no  \n",
       "8268                           0                      no  \n",
       "8282                           3                      no  \n",
       "8287                           3                      no  \n",
       "\n",
       "[10 rows x 29 columns]"
      ]
     },
     "execution_count": 65,
     "metadata": {},
     "output_type": "execute_result"
    }
   ],
   "source": [
    "df_lessmissingvalue2.head(10)"
   ]
  },
  {
   "cell_type": "markdown",
   "id": "db21edac",
   "metadata": {},
   "source": [
    "# Remove Duplicates"
   ]
  },
  {
   "cell_type": "code",
   "execution_count": 66,
   "id": "e20196c1",
   "metadata": {},
   "outputs": [
    {
     "name": "stdout",
     "output_type": "stream",
     "text": [
      "(16866, 29)\n",
      "(16866, 29)\n"
     ]
    }
   ],
   "source": [
    "df_deldup = df_lessmissingvalue2.drop_duplicates(subset = ['id'], keep = 'last')\n",
    "print(df_lessmissingvalue2.shape)\n",
    "print(df_deldup.shape)"
   ]
  },
  {
   "cell_type": "markdown",
   "id": "b58b786b",
   "metadata": {},
   "source": [
    "# Tidying up Fields in the Data"
   ]
  },
  {
   "cell_type": "code",
   "execution_count": 67,
   "id": "67c82fac",
   "metadata": {},
   "outputs": [
    {
     "name": "stdout",
     "output_type": "stream",
     "text": [
      "float64\n"
     ]
    }
   ],
   "source": [
    "# We have to check the data format. One common problem is the dtype of a date field. If it is an object, which is roughly analogous to str in native Python, you shall convert a date field from string to DateTime format.\n",
    "print(df_deldup['build_year'].dtype)"
   ]
  },
  {
   "cell_type": "code",
   "execution_count": 68,
   "id": "429cc4bb",
   "metadata": {},
   "outputs": [
    {
     "name": "stdout",
     "output_type": "stream",
     "text": [
      "object\n"
     ]
    }
   ],
   "source": [
    "print(df_deldup['timestamp'].dtype)"
   ]
  },
  {
   "cell_type": "code",
   "execution_count": 69,
   "id": "c9c7c8fd",
   "metadata": {
    "scrolled": true
   },
   "outputs": [
    {
     "name": "stdout",
     "output_type": "stream",
     "text": [
      "2014    11091\n",
      "2013     3223\n",
      "2015     2552\n",
      "Name: year, dtype: int64\n"
     ]
    }
   ],
   "source": [
    "df_deldup['timestamp_dt'] = pd.to_datetime(df_deldup['timestamp'], format='%Y-%m-%d')\n",
    "df_deldup['year'] = df_deldup['timestamp_dt'].dt.year\n",
    "df_deldup['month'] = df_deldup['timestamp_dt'].dt.month\n",
    "print(df_deldup['year'].value_counts(dropna=False))"
   ]
  },
  {
   "cell_type": "code",
   "execution_count": 71,
   "id": "521fe5ca",
   "metadata": {},
   "outputs": [
    {
     "data": {
      "text/plain": [
       "8056       Investment\n",
       "8135       Investment\n",
       "8153    OwnerOccupier\n",
       "8154       Investment\n",
       "8175       Investment\n",
       "8186    OwnerOccupier\n",
       "8255       Investment\n",
       "8268    OwnerOccupier\n",
       "8282       Investment\n",
       "8287       Investment\n",
       "8293       Investment\n",
       "8350       Investment\n",
       "8362       Investment\n",
       "8367       Investment\n",
       "8374       Investment\n",
       "8381       Investment\n",
       "8387       Investment\n",
       "8391       Investment\n",
       "8410       Investment\n",
       "8423       Investment\n",
       "Name: product_type, dtype: object"
      ]
     },
     "execution_count": 71,
     "metadata": {},
     "output_type": "execute_result"
    }
   ],
   "source": [
    "# Often, we shall check categorical values. A categorical feature has a limited number of values. Sometimes there may be other values due to reasons such as typos.\n",
    "df_deldup['product_type'].head(20)     # This field looks correct.  "
   ]
  },
  {
   "cell_type": "code",
   "execution_count": 72,
   "id": "54787dac",
   "metadata": {},
   "outputs": [
    {
     "data": {
      "text/plain": [
       "8056    3.0\n",
       "8135    3.0\n",
       "8153    1.0\n",
       "8154    3.0\n",
       "8175    NaN\n",
       "8186    1.0\n",
       "8255    3.0\n",
       "8268    1.0\n",
       "8282    3.0\n",
       "8287    2.0\n",
       "8293    3.0\n",
       "8350    3.0\n",
       "8362    3.0\n",
       "8367    2.0\n",
       "8374    NaN\n",
       "8381    NaN\n",
       "8387    2.0\n",
       "8391    3.0\n",
       "8410    2.0\n",
       "8423    3.0\n",
       "Name: state, dtype: float64"
      ]
     },
     "execution_count": 72,
     "metadata": {},
     "output_type": "execute_result"
    }
   ],
   "source": [
    "df_deldup['state'].head(20)"
   ]
  },
  {
   "cell_type": "code",
   "execution_count": 47,
   "id": "b877cbb1",
   "metadata": {},
   "outputs": [
    {
     "data": {
      "text/plain": [
       "8056                   Hamovniki\n",
       "8135                   Lianozovo\n",
       "8153     Poselenie Voskresenskoe\n",
       "8154             Severnoe Butovo\n",
       "8175              Filevskij Park\n",
       "8186                  Nekrasovka\n",
       "8255          Juzhnoe Medvedkovo\n",
       "8268      Poselenie Pervomajskoe\n",
       "8282                    Solncevo\n",
       "8287                   Ajeroport\n",
       "8293    Orehovo-Borisovo Juzhnoe\n",
       "8350                    Nagornoe\n",
       "8362                     Mar'ino\n",
       "8367                    Strogino\n",
       "8374         Chertanovo Severnoe\n",
       "8381                    Shhukino\n",
       "8387          Horoshevo-Mnevniki\n",
       "8391                     Ramenki\n",
       "8410             Preobrazhenskoe\n",
       "8423                 Dmitrovskoe\n",
       "8424                      Mitino\n",
       "8426                      Mitino\n",
       "8427                    Kon'kovo\n",
       "8451        Poselenie Moskovskij\n",
       "8452                       Sokol\n",
       "8470                Ostankinskoe\n",
       "8476             Juzhnoe Tushino\n",
       "8498         Vostochnoe Degunino\n",
       "8499                    Bibirevo\n",
       "8501                   Rostokino\n",
       "8509              Juzhnoe Butovo\n",
       "8513                Horoshevskoe\n",
       "8519                 Meshhanskoe\n",
       "8525                    Otradnoe\n",
       "8535             Preobrazhenskoe\n",
       "8557                  Krylatskoe\n",
       "8563                 Golovinskoe\n",
       "8574          Horoshevo-Mnevniki\n",
       "8576                    Brateevo\n",
       "8577                    Kon'kovo\n",
       "Name: sub_area, dtype: object"
      ]
     },
     "execution_count": 47,
     "metadata": {},
     "output_type": "execute_result"
    }
   ],
   "source": [
    "df_deldup['sub_area'].head(40)"
   ]
  },
  {
   "cell_type": "code",
   "execution_count": 73,
   "id": "45abbe10",
   "metadata": {},
   "outputs": [
    {
     "name": "stdout",
     "output_type": "stream",
     "text": [
      "Poselenie Vnukovskoe              453\n",
      "Nekrasovka                        446\n",
      "Poselenie Sosenskoe               439\n",
      "Mitino                            366\n",
      "Mar'ino                           364\n",
      "                                 ... \n",
      "Molzhaninovskoe                     3\n",
      "Poselenie Kievskij                  2\n",
      "Poselenie Klenovskoe                1\n",
      "Poselenie Mihajlovo-Jarcevskoe      1\n",
      "Poselenie Shhapovskoe               1\n",
      "Name: sub_area, Length: 146, dtype: int64\n",
      "poselenie vnukovskoe              453\n",
      "nekrasovka                        446\n",
      "poselenie sosenskoe               439\n",
      "mitino                            366\n",
      "mar'ino                           364\n",
      "                                 ... \n",
      "molzhaninovskoe                     3\n",
      "poselenie kievskij                  2\n",
      "poselenie klenovskoe                1\n",
      "poselenie mihajlovo-jarcevskoe      1\n",
      "poselenie shhapovskoe               1\n",
      "Name: sub_area, Length: 146, dtype: int64\n"
     ]
    }
   ],
   "source": [
    "print(df_deldup['sub_area'].value_counts(dropna=False))\n",
    "df_deldup['sub_area'] = df_deldup['sub_area'].str.lower()\n",
    "print(df_deldup['sub_area'].value_counts(dropna=False))"
   ]
  },
  {
   "cell_type": "markdown",
   "id": "fdb2c4f6",
   "metadata": {},
   "source": [
    "# Detect Outliers"
   ]
  },
  {
   "cell_type": "code",
   "execution_count": 74,
   "id": "b77303e5",
   "metadata": {},
   "outputs": [
    {
     "data": {
      "text/plain": [
       "<AxesSubplot:>"
      ]
     },
     "execution_count": 74,
     "metadata": {},
     "output_type": "execute_result"
    },
    {
     "data": {
      "image/png": "[encoded data removed]",
      "text/plain": [
       "<Figure size 432x288 with 1 Axes>"
      ]
     },
     "metadata": {
      "needs_background": "light"
     },
     "output_type": "display_data"
    }
   ],
   "source": [
    "df_deldup.boxplot(column=['life_sq'])"
   ]
  },
  {
   "cell_type": "code",
   "execution_count": 75,
   "id": "a423fa44",
   "metadata": {},
   "outputs": [
    {
     "data": {
      "text/plain": [
       "<AxesSubplot:>"
      ]
     },
     "execution_count": 75,
     "metadata": {},
     "output_type": "execute_result"
    },
    {
     "data": {
      "image/png": "[encoded data removed]",
      "text/plain": [
       "<Figure size 432x288 with 1 Axes>"
      ]
     },
     "metadata": {
      "needs_background": "light"
     },
     "output_type": "display_data"
    }
   ],
   "source": [
    "df_nooutlier = df_deldup[df_deldup['life_sq'] < 1000]\n",
    "df_nooutlier.boxplot(column=['life_sq'])"
   ]
  },
  {
   "cell_type": "markdown",
   "id": "04fa138f",
   "metadata": {},
   "source": [
    "# Data Summarization"
   ]
  },
  {
   "cell_type": "code",
   "execution_count": 76,
   "id": "0a26e3f0",
   "metadata": {},
   "outputs": [
    {
     "data": {
      "text/plain": [
       "count    16087.000000\n",
       "mean        33.726612\n",
       "std         19.610892\n",
       "min          0.000000\n",
       "25%         20.000000\n",
       "50%         30.000000\n",
       "75%         43.000000\n",
       "max        637.000000\n",
       "Name: life_sq, dtype: float64"
      ]
     },
     "execution_count": 76,
     "metadata": {},
     "output_type": "execute_result"
    }
   ],
   "source": [
    "# Get basic descriptive statistics of numeric features\n",
    "df_nooutlier['life_sq'].describe()"
   ]
  },
  {
   "cell_type": "code",
   "execution_count": 77,
   "id": "21d49abe",
   "metadata": {},
   "outputs": [
    {
     "data": {
      "text/plain": [
       "30.0"
      ]
     },
     "execution_count": 77,
     "metadata": {},
     "output_type": "execute_result"
    }
   ],
   "source": [
    "df_nooutlier['life_sq'].median()"
   ]
  },
  {
   "cell_type": "code",
   "execution_count": 79,
   "id": "8236549b",
   "metadata": {},
   "outputs": [
    {
     "name": "stdout",
     "output_type": "stream",
     "text": [
      "mean of square meters by property types\n",
      " product_type\n",
      "Investment       31.135301\n",
      "OwnerOccupier    47.362009\n",
      "Name: life_sq, dtype: float64\n"
     ]
    }
   ],
   "source": [
    "# Data Aggregation for categorical features.\n",
    "df_bypropertytype = df_nooutlier.groupby('product_type')\n",
    "\n",
    "print('mean of square meters by property types\\n', df_bypropertytype['life_sq'].mean())"
   ]
  },
  {
   "cell_type": "code",
   "execution_count": null,
   "id": "2607d4f7",
   "metadata": {},
   "outputs": [],
   "source": []
  }
 ],
 "metadata": {
  "kernelspec": {
   "display_name": "Python 3 (ipykernel)",
   "language": "python",
   "name": "python3"
  },
  "language_info": {
   "codemirror_mode": {
    "name": "ipython",
    "version": 3
   },
   "file_extension": ".py",
   "mimetype": "text/x-python",
   "name": "python",
   "nbconvert_exporter": "python",
   "pygments_lexer": "ipython3",
   "version": "3.10.4"
  }
 },
 "nbformat": 4,
 "nbformat_minor": 5
}
