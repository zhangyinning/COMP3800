{
 "cells": [
  {
   "cell_type": "markdown",
   "id": "ec5bec6a",
   "metadata": {},
   "source": [
    "# Clustering with K-Means Algorithm"
   ]
  },
  {
   "cell_type": "code",
   "execution_count": 2,
   "id": "8fc15df3",
   "metadata": {},
   "outputs": [
    {
     "data": {
      "image/png": "[encoded data removed]",
      "text/plain": [
       "<Figure size 432x288 with 1 Axes>"
      ]
     },
     "metadata": {
      "needs_background": "light"
     },
     "output_type": "display_data"
    }
   ],
   "source": [
    "# Load the data\n",
    "import numpy as np\n",
    "import pandas as pd\n",
    "import matplotlib.pyplot as plt\n",
    "\n",
    "df = pd.read_csv(\"kmeans.csv\")\n",
    "\n",
    "plt.scatter(df['x'],df['y'], c='r', s=18)\n",
    "plt.show()\n",
    "\n",
    "# In this case, the x and y are on the same range. We will skip scaling. "
   ]
  },
  {
   "cell_type": "code",
   "execution_count": 3,
   "id": "322e0e2c",
   "metadata": {},
   "outputs": [],
   "source": [
    "#create a 2D array containing all features-\n",
    "X = np.array(list(zip(df['x'],df['y'])))\n",
    "\n",
    "# build the model\n",
    "from sklearn.cluster import KMeans\n",
    "kmeans = KMeans(n_clusters=3)\n",
    "kmeans = kmeans.fit(X) # train the model"
   ]
  },
  {
   "cell_type": "code",
   "execution_count": 4,
   "id": "553e9c51",
   "metadata": {},
   "outputs": [
    {
     "name": "stdout",
     "output_type": "stream",
     "text": [
      "[0 0 0 0 0 1 1 1 2 1 0 1 1 1 1 0 2 2 1]\n",
      "[[2.         2.71428571]\n",
      " [6.77777778 8.11111111]\n",
      " [7.66666667 5.33333333]]\n"
     ]
    }
   ],
   "source": [
    "# use the trained model to find the clusters for each case\n",
    "\n",
    "labels = kmeans.predict(X)\n",
    "centroids = kmeans.cluster_centers_\n",
    "\n",
    "print(labels)\n",
    "print(centroids)"
   ]
  },
  {
   "cell_type": "code",
   "execution_count": 5,
   "id": "c0a6b459",
   "metadata": {},
   "outputs": [
    {
     "name": "stdout",
     "output_type": "stream",
     "text": [
      "['b', 'b', 'b', 'b', 'b', 'r', 'r', 'r', 'g', 'r', 'b', 'r', 'r', 'r', 'r', 'b', 'g', 'g', 'r']\n"
     ]
    }
   ],
   "source": [
    "# re-plot the cases with the labels\n",
    "c = ['b', 'r', 'g']\n",
    "colors = []\n",
    "for i in labels:\n",
    "    colors.append(c[i]) \n",
    "print(colors)"
   ]
  },
  {
   "cell_type": "code",
   "execution_count": 6,
   "id": "8e835ff1",
   "metadata": {},
   "outputs": [
    {
     "data": {
      "image/png": "[encoded data removed]",
      "text/plain": [
       "<Figure size 432x288 with 1 Axes>"
      ]
     },
     "metadata": {
      "needs_background": "light"
     },
     "output_type": "display_data"
    }
   ],
   "source": [
    "plt.scatter(df['x'],df['y'], c=colors)\n",
    "plt.scatter(centroids[:, 0], centroids[:, 1], marker='*', s=100, c='black')\n",
    "plt.show()"
   ]
  },
  {
   "cell_type": "code",
   "execution_count": 8,
   "id": "b36a736a",
   "metadata": {},
   "outputs": [
    {
     "name": "stdout",
     "output_type": "stream",
     "text": [
      "[0]\n"
     ]
    }
   ],
   "source": [
    "cluster = kmeans.predict([[3,4]])\n",
    "print(cluster)"
   ]
  },
  {
   "cell_type": "code",
   "execution_count": 18,
   "id": "d96f4a80",
   "metadata": {},
   "outputs": [],
   "source": [
    "# Choosing the optimal k.\n",
    "# Method 1: Elbow method\n",
    "\n",
    "# Create a list to hold the Error Sum of Squares (SSE)\n",
    "# which is the sum of the squared differences between each observation and its group's mean\n",
    "sse = [] \n",
    "\n",
    "for k in range(1, 11):\n",
    "    kmeans = KMeans(n_clusters=k)\n",
    "    kmeans.fit(X)\n",
    "    sse.append(kmeans.inertia_)"
   ]
  },
  {
   "cell_type": "code",
   "execution_count": 19,
   "id": "0a338030",
   "metadata": {},
   "outputs": [
    {
     "name": "stdout",
     "output_type": "stream",
     "text": [
      "[258.63157894736844, 50.345238095238095, 31.206349206349206, 21.194444444444446, 15.900000000000002, 12.5, 9.238095238095239, 6.666666666666667, 4.833333333333334, 3.5]\n"
     ]
    }
   ],
   "source": [
    "print(sse)"
   ]
  },
  {
   "cell_type": "code",
   "execution_count": 20,
   "id": "187886c5",
   "metadata": {},
   "outputs": [
    {
     "data": {
      "image/png": "[encoded data removed]",
      "text/plain": [
       "<Figure size 432x288 with 1 Axes>"
      ]
     },
     "metadata": {
      "needs_background": "light"
     },
     "output_type": "display_data"
    }
   ],
   "source": [
    "plt.plot(range(1, 11), sse)\n",
    "plt.xlabel(\"Number of Clusters\")\n",
    "plt.ylabel(\"SSE\")\n",
    "plt.show()"
   ]
  },
  {
   "cell_type": "code",
   "execution_count": 21,
   "id": "900b4d67",
   "metadata": {},
   "outputs": [
    {
     "data": {
      "text/plain": [
       "2"
      ]
     },
     "execution_count": 21,
     "metadata": {},
     "output_type": "execute_result"
    }
   ],
   "source": [
    "# If it is hard to decide whether 3, 4, or 5 is the best number,\n",
    "# we could use a method KneeLocator from the package kneed. \n",
    "\n",
    "import kneed\n",
    "\n",
    "ks = kneed.KneeLocator(range(1, 11), sse, curve=\"convex\", direction=\"decreasing\")\n",
    "ks.elbow"
   ]
  },
  {
   "cell_type": "code",
   "execution_count": 17,
   "id": "dfb5f591",
   "metadata": {},
   "outputs": [
    {
     "name": "stdout",
     "output_type": "stream",
     "text": [
      "2   0.6897112069939448\n",
      "3   0.5578051985195768\n",
      "4   0.4430381814640289\n",
      "5   0.4424248576948773\n",
      "6   0.4202812803017777\n",
      "7   0.38650416544593347\n",
      "8   0.45192547478167977\n",
      "9   0.44437330649476303\n",
      "10   0.5124113408422506\n"
     ]
    }
   ],
   "source": [
    "# Finding the best k using the Silhouette Coefficient\n",
    "from sklearn import metrics\n",
    "sil = []\n",
    "for k in range(2, 11):\n",
    "    kmeans = KMeans(n_clusters=k)\n",
    "    kmeans.fit(X)\n",
    "    score = metrics.silhouette_score(X, kmeans.labels_)\n",
    "    sil.append(score)\n",
    "    print(k, \" \", score )"
   ]
  },
  {
   "cell_type": "code",
   "execution_count": 22,
   "id": "dbc3ced6",
   "metadata": {},
   "outputs": [
    {
     "data": {
      "image/png": "[encoded data removed]",
      "text/plain": [
       "<Figure size 432x288 with 1 Axes>"
      ]
     },
     "metadata": {
      "needs_background": "light"
     },
     "output_type": "display_data"
    }
   ],
   "source": [
    "plt.plot(range(2, 11), sil)\n",
    "plt.xlabel(\"Number of Clusters\")\n",
    "plt.ylabel(\"silhouette_score\")\n",
    "plt.show()"
   ]
  },
  {
   "cell_type": "code",
   "execution_count": null,
   "id": "2265fe78",
   "metadata": {},
   "outputs": [],
   "source": []
  }
 ],
 "metadata": {
  "kernelspec": {
   "display_name": "Python 3 (ipykernel)",
   "language": "python",
   "name": "python3"
  },
  "language_info": {
   "codemirror_mode": {
    "name": "ipython",
    "version": 3
   },
   "file_extension": ".py",
   "mimetype": "text/x-python",
   "name": "python",
   "nbconvert_exporter": "python",
   "pygments_lexer": "ipython3",
   "version": "3.10.4"
  }
 },
 "nbformat": 4,
 "nbformat_minor": 5
}
