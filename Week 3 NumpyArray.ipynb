{
 "cells": [
  {
   "cell_type": "markdown",
   "id": "38de3f57",
   "metadata": {},
   "source": [
    "# Creating an array"
   ]
  },
  {
   "cell_type": "code",
   "execution_count": 2,
   "id": "fa7a779d",
   "metadata": {},
   "outputs": [],
   "source": [
    "import numpy as np"
   ]
  },
  {
   "cell_type": "code",
   "execution_count": 6,
   "id": "0e9a12a1",
   "metadata": {},
   "outputs": [],
   "source": [
    "# create a 1-D array\n",
    "m=np.array(np.arange(5))"
   ]
  },
  {
   "cell_type": "code",
   "execution_count": 7,
   "id": "c7620ea8",
   "metadata": {},
   "outputs": [
    {
     "data": {
      "text/plain": [
       "dtype('int64')"
      ]
     },
     "execution_count": 7,
     "metadata": {},
     "output_type": "execute_result"
    }
   ],
   "source": [
    "m.dtype"
   ]
  },
  {
   "cell_type": "code",
   "execution_count": 9,
   "id": "df1445ad",
   "metadata": {},
   "outputs": [
    {
     "data": {
      "text/plain": [
       "array([0, 1, 2, 3, 4])"
      ]
     },
     "execution_count": 9,
     "metadata": {},
     "output_type": "execute_result"
    }
   ],
   "source": [
    "m"
   ]
  },
  {
   "cell_type": "code",
   "execution_count": 11,
   "id": "64f8c88e",
   "metadata": {},
   "outputs": [
    {
     "data": {
      "text/plain": [
       "(5,)"
      ]
     },
     "execution_count": 11,
     "metadata": {},
     "output_type": "execute_result"
    }
   ],
   "source": [
    "# check its shape\n",
    "m.shape"
   ]
  },
  {
   "cell_type": "code",
   "execution_count": 15,
   "id": "ef87749b",
   "metadata": {},
   "outputs": [
    {
     "data": {
      "text/plain": [
       "array([[1, 2],\n",
       "       [3, 4]])"
      ]
     },
     "execution_count": 15,
     "metadata": {},
     "output_type": "execute_result"
    }
   ],
   "source": [
    "#create a 2D array\n",
    "a=np.array([[1,2],[3,4]])\n",
    "a"
   ]
  },
  {
   "cell_type": "code",
   "execution_count": 17,
   "id": "162a3655",
   "metadata": {
    "scrolled": false
   },
   "outputs": [
    {
     "data": {
      "text/plain": [
       "array([[0, 1, 2, 3],\n",
       "       [0, 1, 2, 3]])"
      ]
     },
     "execution_count": 17,
     "metadata": {},
     "output_type": "execute_result"
    }
   ],
   "source": [
    "n=np.array([np.arange(4), np.arange(4)])\n",
    "n"
   ]
  },
  {
   "cell_type": "code",
   "execution_count": 25,
   "id": "76ad6ed6",
   "metadata": {},
   "outputs": [
    {
     "name": "stdout",
     "output_type": "stream",
     "text": [
      "[[[ 0  1  2  3  4]\n",
      "  [ 5  6  7  8  9]]\n",
      "\n",
      " [[10 11 12 13 14]\n",
      "  [15 16 17 18 19]]]\n",
      "(2, 2, 5)\n"
     ]
    }
   ],
   "source": [
    "# create a 3D array\n",
    "a3=np.array([[np.arange(0,5),np.arange(5,10)],[np.arange(10,15),np.arange(15,20)]])\n",
    "print(a3)\n",
    "print(a3.shape)"
   ]
  },
  {
   "cell_type": "code",
   "execution_count": 26,
   "id": "839f383a",
   "metadata": {},
   "outputs": [
    {
     "data": {
      "text/plain": [
       "array([[-0.10981389,  0.73330203,  1.79577412],\n",
       "       [ 0.52609747,  0.96143443, -1.21434326]])"
      ]
     },
     "execution_count": 26,
     "metadata": {},
     "output_type": "execute_result"
    }
   ],
   "source": [
    "# create an array with random data\n",
    "r=np.random.randn(2,3)\n",
    "r"
   ]
  },
  {
   "cell_type": "markdown",
   "id": "8ad37f09",
   "metadata": {},
   "source": [
    "# Slicing"
   ]
  },
  {
   "cell_type": "code",
   "execution_count": 30,
   "id": "989b2006",
   "metadata": {},
   "outputs": [
    {
     "data": {
      "text/plain": [
       "19"
      ]
     },
     "execution_count": 30,
     "metadata": {},
     "output_type": "execute_result"
    }
   ],
   "source": [
    "# select an element from an array\n",
    "a3[1, 1, 4]"
   ]
  },
  {
   "cell_type": "code",
   "execution_count": 32,
   "id": "a04ad2d5",
   "metadata": {},
   "outputs": [
    {
     "data": {
      "text/plain": [
       "array([3, 4, 5, 6])"
      ]
     },
     "execution_count": 32,
     "metadata": {},
     "output_type": "execute_result"
    }
   ],
   "source": [
    "a = np.arange(9)\n",
    "a[3:7]"
   ]
  },
  {
   "cell_type": "code",
   "execution_count": 33,
   "id": "3fc0f634",
   "metadata": {},
   "outputs": [
    {
     "data": {
      "text/plain": [
       "array([0, 2, 4, 6])"
      ]
     },
     "execution_count": 33,
     "metadata": {},
     "output_type": "execute_result"
    }
   ],
   "source": [
    "a[:7:2]"
   ]
  },
  {
   "cell_type": "code",
   "execution_count": 35,
   "id": "c89e59d7",
   "metadata": {},
   "outputs": [
    {
     "data": {
      "text/plain": [
       "array([[0, 1, 2, 3, 4, 5, 6, 7, 8],\n",
       "       [0, 1, 2, 3, 4, 5, 6, 7, 8]])"
      ]
     },
     "execution_count": 35,
     "metadata": {},
     "output_type": "execute_result"
    }
   ],
   "source": [
    "# slice a 2-D array\n",
    "a2=np.array([np.arange(9),np.arange(9)])\n",
    "a2"
   ]
  },
  {
   "cell_type": "code",
   "execution_count": 36,
   "id": "2117b8b8",
   "metadata": {},
   "outputs": [
    {
     "data": {
      "text/plain": [
       "array([[0, 1, 2, 3, 4, 5, 6, 7, 8]])"
      ]
     },
     "execution_count": 36,
     "metadata": {},
     "output_type": "execute_result"
    }
   ],
   "source": [
    "a2[0:1, :]"
   ]
  },
  {
   "cell_type": "code",
   "execution_count": 41,
   "id": "10be1af1",
   "metadata": {},
   "outputs": [
    {
     "data": {
      "text/plain": [
       "array([[3, 4, 5, 6, 7],\n",
       "       [3, 4, 5, 6, 7]])"
      ]
     },
     "execution_count": 41,
     "metadata": {},
     "output_type": "execute_result"
    }
   ],
   "source": [
    "a2[:, 3:8]"
   ]
  },
  {
   "cell_type": "code",
   "execution_count": 42,
   "id": "dec8bb80",
   "metadata": {},
   "outputs": [
    {
     "data": {
      "text/plain": [
       "array([[0, 2, 4, 6, 8],\n",
       "       [0, 2, 4, 6, 8]])"
      ]
     },
     "execution_count": 42,
     "metadata": {},
     "output_type": "execute_result"
    }
   ],
   "source": [
    "a2[:,::2]"
   ]
  },
  {
   "cell_type": "code",
   "execution_count": 43,
   "id": "4d181974",
   "metadata": {},
   "outputs": [
    {
     "data": {
      "text/plain": [
       "array([[8, 7, 6, 5, 4, 3, 2, 1, 0],\n",
       "       [8, 7, 6, 5, 4, 3, 2, 1, 0]])"
      ]
     },
     "execution_count": 43,
     "metadata": {},
     "output_type": "execute_result"
    }
   ],
   "source": [
    "a2[:,::-1]"
   ]
  },
  {
   "cell_type": "code",
   "execution_count": 48,
   "id": "375c92d4",
   "metadata": {},
   "outputs": [
    {
     "data": {
      "text/plain": [
       "array([[[-0.12945056,  0.40444222,  0.4630022 , -0.32226983],\n",
       "        [ 1.44238962,  1.8651124 , -0.44293879, -0.36246807],\n",
       "        [-0.59300122, -0.21055245, -0.79366648,  1.29253082]],\n",
       "\n",
       "       [[ 0.90499557,  1.21680285,  1.44688441,  0.09196464],\n",
       "        [ 0.21641276,  2.2490262 , -0.73617329, -1.83970365],\n",
       "        [-0.76988072, -1.59279406,  0.41900446,  0.91610123]]])"
      ]
     },
     "execution_count": 48,
     "metadata": {},
     "output_type": "execute_result"
    }
   ],
   "source": [
    "# slice 3D array\n",
    "a3 = np.random.randn(2,3,4)\n",
    "a3"
   ]
  },
  {
   "cell_type": "code",
   "execution_count": 49,
   "id": "3683c78b",
   "metadata": {},
   "outputs": [
    {
     "data": {
      "text/plain": [
       "array([[-0.12945056,  0.40444222],\n",
       "       [ 1.44238962,  1.8651124 ]])"
      ]
     },
     "execution_count": 49,
     "metadata": {},
     "output_type": "execute_result"
    }
   ],
   "source": [
    "a3[0,0:2,0:2]"
   ]
  },
  {
   "cell_type": "code",
   "execution_count": 51,
   "id": "7d2c6f41",
   "metadata": {},
   "outputs": [
    {
     "data": {
      "text/plain": [
       "array([    0,     1,     2,     3,     4,     5, 12345,     7,     8])"
      ]
     },
     "execution_count": 51,
     "metadata": {},
     "output_type": "execute_result"
    }
   ],
   "source": [
    "# Compare a copied array and a non-copied array\n",
    "arr_slice=a[5:8]\n",
    "arr_slice[1]=12345\n",
    "a"
   ]
  },
  {
   "cell_type": "code",
   "execution_count": 53,
   "id": "351c601a",
   "metadata": {},
   "outputs": [
    {
     "data": {
      "text/plain": [
       "array([    0,     1,     2,     3,     4,     5, 12345,     7,     8])"
      ]
     },
     "execution_count": 53,
     "metadata": {},
     "output_type": "execute_result"
    }
   ],
   "source": [
    "arr_slice=a[5:8].copy()\n",
    "arr_slice[1]=1234567\n",
    "a"
   ]
  },
  {
   "cell_type": "markdown",
   "id": "f6f89981",
   "metadata": {},
   "source": [
    "# Munipulating array shapes"
   ]
  },
  {
   "cell_type": "code",
   "execution_count": 54,
   "id": "afa2cf3d",
   "metadata": {
    "scrolled": true
   },
   "outputs": [
    {
     "data": {
      "text/plain": [
       "array([ 0,  1,  2,  3,  4,  5,  6,  7,  8,  9, 10, 11, 12, 13, 14, 15, 16,\n",
       "       17, 18, 19, 20, 21, 22, 23])"
      ]
     },
     "execution_count": 54,
     "metadata": {},
     "output_type": "execute_result"
    }
   ],
   "source": [
    "# Manipulate array shapes\n",
    "b=np.arange(24)\n",
    "b"
   ]
  },
  {
   "cell_type": "code",
   "execution_count": 55,
   "id": "ee3de9a6",
   "metadata": {},
   "outputs": [
    {
     "data": {
      "text/plain": [
       "array([[[ 0,  1,  2,  3],\n",
       "        [ 4,  5,  6,  7],\n",
       "        [ 8,  9, 10, 11]],\n",
       "\n",
       "       [[12, 13, 14, 15],\n",
       "        [16, 17, 18, 19],\n",
       "        [20, 21, 22, 23]]])"
      ]
     },
     "execution_count": 55,
     "metadata": {},
     "output_type": "execute_result"
    }
   ],
   "source": [
    "# change the array into multi-dimensional one\n",
    "b.reshape(2,3,4)"
   ]
  },
  {
   "cell_type": "code",
   "execution_count": 56,
   "id": "39975973",
   "metadata": {},
   "outputs": [
    {
     "data": {
      "text/plain": [
       "array([ 0,  1,  2,  3,  4,  5,  6,  7,  8,  9, 10, 11, 12, 13, 14, 15, 16,\n",
       "       17, 18, 19, 20, 21, 22, 23])"
      ]
     },
     "execution_count": 56,
     "metadata": {},
     "output_type": "execute_result"
    }
   ],
   "source": [
    "# change b back to 1 dimensional\n",
    "b.flatten()"
   ]
  },
  {
   "cell_type": "code",
   "execution_count": 57,
   "id": "e2450a95",
   "metadata": {},
   "outputs": [
    {
     "data": {
      "text/plain": [
       "array([[ 0,  1,  2,  3],\n",
       "       [ 4,  5,  6,  7],\n",
       "       [ 8,  9, 10, 11],\n",
       "       [12, 13, 14, 15],\n",
       "       [16, 17, 18, 19],\n",
       "       [20, 21, 22, 23]])"
      ]
     },
     "execution_count": 57,
     "metadata": {},
     "output_type": "execute_result"
    }
   ],
   "source": [
    "# transpose an array\n",
    "b.reshape(6,4)"
   ]
  },
  {
   "cell_type": "code",
   "execution_count": 60,
   "id": "43da4443",
   "metadata": {
    "scrolled": true
   },
   "outputs": [
    {
     "data": {
      "text/plain": [
       "array([ 0,  1,  2,  3,  4,  5,  6,  7,  8,  9, 10, 11, 12, 13, 14, 15, 16,\n",
       "       17, 18, 19, 20, 21, 22, 23])"
      ]
     },
     "execution_count": 60,
     "metadata": {},
     "output_type": "execute_result"
    }
   ],
   "source": [
    "b"
   ]
  },
  {
   "cell_type": "code",
   "execution_count": 64,
   "id": "d75e2e4c",
   "metadata": {},
   "outputs": [],
   "source": [
    "c=b.reshape(6,4)"
   ]
  },
  {
   "cell_type": "code",
   "execution_count": 65,
   "id": "b3401c6e",
   "metadata": {},
   "outputs": [
    {
     "data": {
      "text/plain": [
       "array([[ 0,  4,  8, 12, 16, 20],\n",
       "       [ 1,  5,  9, 13, 17, 21],\n",
       "       [ 2,  6, 10, 14, 18, 22],\n",
       "       [ 3,  7, 11, 15, 19, 23]])"
      ]
     },
     "execution_count": 65,
     "metadata": {},
     "output_type": "execute_result"
    }
   ],
   "source": [
    "c.transpose()"
   ]
  },
  {
   "cell_type": "code",
   "execution_count": 67,
   "id": "c2dbb1c7",
   "metadata": {},
   "outputs": [
    {
     "data": {
      "text/plain": [
       "array([[ 0,  1,  2,  3,  4,  5,  6,  7],\n",
       "       [ 8,  9, 10, 11, 12, 13, 14, 15],\n",
       "       [16, 17, 18, 19, 20, 21, 22, 23]])"
      ]
     },
     "execution_count": 67,
     "metadata": {},
     "output_type": "execute_result"
    }
   ],
   "source": [
    "# resize(), different from reshape(), it changes the array directly\n",
    "b.resize(3,8)\n",
    "b"
   ]
  },
  {
   "cell_type": "markdown",
   "id": "37cf155b",
   "metadata": {},
   "source": [
    "# Stacking and Splitting"
   ]
  },
  {
   "cell_type": "code",
   "execution_count": 68,
   "id": "a770399d",
   "metadata": {},
   "outputs": [],
   "source": [
    "# stack the arrays\n",
    "a=np.arange(9).reshape(3,3)\n",
    "b=2*a"
   ]
  },
  {
   "cell_type": "code",
   "execution_count": 69,
   "id": "035c0b99",
   "metadata": {},
   "outputs": [],
   "source": [
    "# horizontal stacking\n",
    "c=np.hstack((a, b)) "
   ]
  },
  {
   "cell_type": "code",
   "execution_count": 70,
   "id": "cb91af14",
   "metadata": {},
   "outputs": [
    {
     "data": {
      "text/plain": [
       "array([[ 0,  1,  2,  0,  2,  4],\n",
       "       [ 3,  4,  5,  6,  8, 10],\n",
       "       [ 6,  7,  8, 12, 14, 16]])"
      ]
     },
     "execution_count": 70,
     "metadata": {},
     "output_type": "execute_result"
    }
   ],
   "source": [
    "c"
   ]
  },
  {
   "cell_type": "code",
   "execution_count": 71,
   "id": "edaf38cd",
   "metadata": {},
   "outputs": [
    {
     "data": {
      "text/plain": [
       "[array([[0, 1],\n",
       "        [3, 4],\n",
       "        [6, 7]]),\n",
       " array([[ 2,  0],\n",
       "        [ 5,  6],\n",
       "        [ 8, 12]]),\n",
       " array([[ 2,  4],\n",
       "        [ 8, 10],\n",
       "        [14, 16]])]"
      ]
     },
     "execution_count": 71,
     "metadata": {},
     "output_type": "execute_result"
    }
   ],
   "source": [
    "np.hsplit(c,3)"
   ]
  },
  {
   "cell_type": "markdown",
   "id": "8d728735",
   "metadata": {},
   "source": [
    "# Boolean Indexing"
   ]
  },
  {
   "cell_type": "code",
   "execution_count": 72,
   "id": "220b0fbe",
   "metadata": {},
   "outputs": [],
   "source": [
    "# Boolean Indexing\n",
    "names = np.array(['Bob', 'Joe', 'Will', 'Bob', 'Will', 'Joe', 'Joe'])"
   ]
  },
  {
   "cell_type": "code",
   "execution_count": 73,
   "id": "92cb4f48",
   "metadata": {},
   "outputs": [
    {
     "data": {
      "text/plain": [
       "array([[-0.53248487,  0.13357955,  1.16160387,  1.68678308],\n",
       "       [-1.86398057, -0.66707389,  1.22427361, -1.16370665],\n",
       "       [-1.58736213, -1.63586546,  0.57307095, -0.19528969],\n",
       "       [-0.26638709, -0.20005804, -0.93424058,  0.43808295],\n",
       "       [-0.08911205, -1.66190413,  0.32350497,  1.85384242],\n",
       "       [-1.00694535,  0.21869683,  0.02632413,  1.37660699],\n",
       "       [-0.11664465, -0.86388787,  1.78912316, -0.84501033]])"
      ]
     },
     "execution_count": 73,
     "metadata": {},
     "output_type": "execute_result"
    }
   ],
   "source": [
    "data = np.random.randn(7, 4)\n",
    "data"
   ]
  },
  {
   "cell_type": "code",
   "execution_count": 75,
   "id": "bf818f22",
   "metadata": {},
   "outputs": [
    {
     "data": {
      "text/plain": [
       "array([ True, False, False,  True, False, False, False])"
      ]
     },
     "execution_count": 75,
     "metadata": {},
     "output_type": "execute_result"
    }
   ],
   "source": [
    "names == 'Bob'"
   ]
  },
  {
   "cell_type": "code",
   "execution_count": 76,
   "id": "031897c1",
   "metadata": {},
   "outputs": [
    {
     "data": {
      "text/plain": [
       "array([[-0.53248487,  0.13357955,  1.16160387,  1.68678308],\n",
       "       [-0.26638709, -0.20005804, -0.93424058,  0.43808295]])"
      ]
     },
     "execution_count": 76,
     "metadata": {},
     "output_type": "execute_result"
    }
   ],
   "source": [
    "data[names == 'Bob']"
   ]
  },
  {
   "cell_type": "code",
   "execution_count": 77,
   "id": "4ceb74c6",
   "metadata": {},
   "outputs": [
    {
     "data": {
      "text/plain": [
       "array([1.68678308, 0.43808295])"
      ]
     },
     "execution_count": 77,
     "metadata": {},
     "output_type": "execute_result"
    }
   ],
   "source": [
    "# select the columns\n",
    "data[names == 'Bob', 3]"
   ]
  },
  {
   "cell_type": "code",
   "execution_count": 78,
   "id": "96c8cea5",
   "metadata": {},
   "outputs": [
    {
     "data": {
      "text/plain": [
       "array([[-1.86398057, -0.66707389,  1.22427361, -1.16370665],\n",
       "       [-1.58736213, -1.63586546,  0.57307095, -0.19528969],\n",
       "       [-0.08911205, -1.66190413,  0.32350497,  1.85384242],\n",
       "       [-1.00694535,  0.21869683,  0.02632413,  1.37660699],\n",
       "       [-0.11664465, -0.86388787,  1.78912316, -0.84501033]])"
      ]
     },
     "execution_count": 78,
     "metadata": {},
     "output_type": "execute_result"
    }
   ],
   "source": [
    "# select all other rows excluding Bob\n",
    "data[~(names == 'Bob')]"
   ]
  },
  {
   "cell_type": "markdown",
   "id": "449d11c6",
   "metadata": {},
   "source": [
    "# Sorting"
   ]
  },
  {
   "cell_type": "code",
   "execution_count": 81,
   "id": "e24f4a40",
   "metadata": {},
   "outputs": [
    {
     "data": {
      "text/plain": [
       "array([-1.73284538,  0.32763671,  0.45920443,  0.70164212,  1.08745085,\n",
       "        1.60055535])"
      ]
     },
     "execution_count": 81,
     "metadata": {},
     "output_type": "execute_result"
    }
   ],
   "source": [
    "# sort an array\n",
    "arr = np.random.randn(6)\n",
    "arr.sort()\n",
    "arr"
   ]
  },
  {
   "cell_type": "code",
   "execution_count": 82,
   "id": "3898e284",
   "metadata": {},
   "outputs": [
    {
     "data": {
      "text/plain": [
       "array([ 1.60055535,  1.08745085,  0.70164212,  0.45920443,  0.32763671,\n",
       "       -1.73284538])"
      ]
     },
     "execution_count": 82,
     "metadata": {},
     "output_type": "execute_result"
    }
   ],
   "source": [
    "# sort in descending order\n",
    "arr[::-1]"
   ]
  },
  {
   "cell_type": "code",
   "execution_count": 83,
   "id": "712a5635",
   "metadata": {},
   "outputs": [],
   "source": [
    "# sort multi-dimensional arrays\n",
    "x = np.random.randn(5, 3)"
   ]
  },
  {
   "cell_type": "code",
   "execution_count": 84,
   "id": "027ce357",
   "metadata": {},
   "outputs": [
    {
     "data": {
      "text/plain": [
       "array([[ 1.19604093, -1.39185879, -0.09543442],\n",
       "       [ 2.31434445,  0.52001538, -1.42968581],\n",
       "       [-0.04010355, -0.67509608, -0.19616876],\n",
       "       [ 1.97786467,  0.53700681,  0.15521452],\n",
       "       [ 0.96659479, -0.47749474,  1.27070781]])"
      ]
     },
     "execution_count": 84,
     "metadata": {},
     "output_type": "execute_result"
    }
   ],
   "source": [
    "x"
   ]
  },
  {
   "cell_type": "code",
   "execution_count": 86,
   "id": "945c67e0",
   "metadata": {},
   "outputs": [
    {
     "data": {
      "text/plain": [
       "array([[-0.04010355, -1.39185879, -1.42968581],\n",
       "       [ 0.96659479, -0.67509608, -0.19616876],\n",
       "       [ 1.19604093, -0.47749474, -0.09543442],\n",
       "       [ 1.97786467,  0.52001538,  0.15521452],\n",
       "       [ 2.31434445,  0.53700681,  1.27070781]])"
      ]
     },
     "execution_count": 86,
     "metadata": {},
     "output_type": "execute_result"
    }
   ],
   "source": [
    "x.sort(0)\n",
    "x"
   ]
  },
  {
   "cell_type": "code",
   "execution_count": 128,
   "id": "01137d28",
   "metadata": {
    "scrolled": true
   },
   "outputs": [
    {
     "data": {
      "text/plain": [
       "array([[-0.58061914, -0.67510465, -0.5318933 ],\n",
       "       [-0.17197433, -0.66241972, -0.21307814],\n",
       "       [-0.05104839, -0.17559099,  0.09563719],\n",
       "       [ 0.23884671,  0.21495166,  0.369866  ],\n",
       "       [ 2.00022268,  1.11949093,  0.38472819]])"
      ]
     },
     "execution_count": 128,
     "metadata": {},
     "output_type": "execute_result"
    }
   ],
   "source": [
    "x"
   ]
  },
  {
   "cell_type": "markdown",
   "id": "30eb49d3",
   "metadata": {},
   "source": [
    "# Calculations"
   ]
  },
  {
   "cell_type": "code",
   "execution_count": 5,
   "id": "e9c31740",
   "metadata": {},
   "outputs": [
    {
     "name": "stdout",
     "output_type": "stream",
     "text": [
      "m [0 1 2 3 4 5 6 7 8 9]\n",
      "n [10 11 12 13 14 15 16 17 18 19]\n",
      "m+n [10 12 14 16 18 20 22 24 26 28]\n"
     ]
    }
   ],
   "source": [
    "m = np.arange(10)\n",
    "n = np.arange(10, 20)\n",
    "print('m', m)\n",
    "print('n', n)\n",
    "print('m+n', m+n)  \n",
    "# instead of having to use a loop when working with a list, you can directly add two arrays"
   ]
  },
  {
   "cell_type": "code",
   "execution_count": 9,
   "id": "20b9743a",
   "metadata": {},
   "outputs": [
    {
     "name": "stdout",
     "output_type": "stream",
     "text": [
      "m [[12 88 25 22]\n",
      " [45 73 63 46]]\n",
      "m+n [[13 89 26 23]\n",
      " [46 74 64 47]]\n"
     ]
    }
   ],
   "source": [
    "# broadcasting\n",
    "m = np.random.randint(0, 100, (2, 4))\n",
    "n = 1\n",
    "print('m', m)\n",
    "print('m+n', m+n)  "
   ]
  },
  {
   "cell_type": "code",
   "execution_count": 11,
   "id": "a1819d23",
   "metadata": {},
   "outputs": [
    {
     "name": "stdout",
     "output_type": "stream",
     "text": [
      "sum of all elements 374\n",
      "sum the rows [ 57 161  88  68]\n",
      "sum the columns [147 227]\n"
     ]
    }
   ],
   "source": [
    "print('sum of all elements', m.sum())\n",
    "print('sum the rows', m.sum(axis = 0))\n",
    "print('sum the columns', m.sum(axis = 1))"
   ]
  },
  {
   "cell_type": "code",
   "execution_count": 14,
   "id": "00725c35",
   "metadata": {},
   "outputs": [
    {
     "name": "stdout",
     "output_type": "stream",
     "text": [
      "Matrix multiplication \n",
      " [[41 67]\n",
      " [53 87]]\n",
      "Element-wise multiplication\n",
      " [[ 6 21]\n",
      " [40 63]]\n"
     ]
    }
   ],
   "source": [
    "A = np.array([[6, 7],\n",
    "              [8, 9]])\n",
    "\n",
    "B = np.array([[1, 3],\n",
    "              [5, 7]])\n",
    "print('Matrix multiplication \\n' , np.dot(A, B))\n",
    "print('Element-wise multiplication\\n', np.multiply(A, B))"
   ]
  },
  {
   "cell_type": "code",
   "execution_count": null,
   "id": "a6704fa9",
   "metadata": {},
   "outputs": [],
   "source": []
  }
 ],
 "metadata": {
  "kernelspec": {
   "display_name": "Python 3 (ipykernel)",
   "language": "python",
   "name": "python3"
  },
  "language_info": {
   "codemirror_mode": {
    "name": "ipython",
    "version": 3
   },
   "file_extension": ".py",
   "mimetype": "text/x-python",
   "name": "python",
   "nbconvert_exporter": "python",
   "pygments_lexer": "ipython3",
   "version": "3.9.13"
  }
 },
 "nbformat": 4,
 "nbformat_minor": 5
}
